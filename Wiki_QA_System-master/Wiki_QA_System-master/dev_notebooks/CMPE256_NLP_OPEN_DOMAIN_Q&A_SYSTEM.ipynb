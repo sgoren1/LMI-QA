{
  "nbformat": 4,
  "nbformat_minor": 0,
  "metadata": {
    "colab": {
      "name": "CMPE256_NLP_OPEN_DOMAIN_Q&A_SYSTEM.ipynb",
      "provenance": [],
      "collapsed_sections": [],
      "toc_visible": true
    },
    "kernelspec": {
      "display_name": "Python 3",
      "name": "python3"
    },
    "language_info": {
      "name": "python"
    }
  },
  "cells": [
    {
      "cell_type": "markdown",
      "metadata": {
        "id": "JQzyocdNot5f"
      },
      "source": [
        "## **`OPEN_DOMAIN_Q&A_SYSTEM USING WKIPEDIA`**"
      ]
    },
    {
      "cell_type": "markdown",
      "metadata": {
        "id": "AoPcS4xSgBYI"
      },
      "source": [
        "##### **INSTALLING NECESSARY MODULES**"
      ]
    },
    {
      "cell_type": "code",
      "metadata": {
        "id": "hDOgs2vwOIpq"
      },
      "source": [
        "#install necessary packages and modules\n",
        "! pip install wikipedia\n",
        "! pip install transformers\n",
        "! pip install sentence_transformers\n",
        "! pip install spacy_universal_sentence_encoder\n",
        "! python -m spacy download en_core_web_lg"
      ],
      "execution_count": null,
      "outputs": []
    },
    {
      "cell_type": "markdown",
      "metadata": {
        "id": "JuEcHqQhgPA6"
      },
      "source": [
        "##### **IMPORTING NECESSARY MODULES**"
      ]
    },
    {
      "cell_type": "code",
      "metadata": {
        "id": "9uhUHAmxdfbv"
      },
      "source": [
        "#importing libraries\n",
        "import wikipedia\n",
        "import spacy\n",
        "from spacy.matcher import PhraseMatcher\n",
        "import re\n",
        "import spacy_universal_sentence_encoder\n",
        "import pandas as pd\n",
        "import numpy as np\n",
        "\n",
        "#import transformers library\n",
        "from transformers import pipeline"
      ],
      "execution_count": 3,
      "outputs": []
    },
    {
      "cell_type": "markdown",
      "metadata": {
        "id": "nN4e0uGFgS7J"
      },
      "source": [
        "##### **LOAD ENGLISH LANGUAGE MODULE of SPACY**"
      ]
    },
    {
      "cell_type": "code",
      "metadata": {
        "id": "chDyJW6vfCm9",
        "colab": {
          "base_uri": "https://localhost:8080/"
        },
        "outputId": "80362958-28ee-433c-c5b3-6e33bdc8df32"
      },
      "source": [
        "#load  spacy english language module(large)\n",
        "nlp = spacy.load('en_core_web_lg')\n",
        "\n",
        "# Ssentece embedding load one of the models: ['en_use_md', 'en_use_lg', 'xx_use_md', 'xx_use_lg']\n",
        "nlp1 = spacy_universal_sentence_encoder.load_model('en_use_lg')"
      ],
      "execution_count": 4,
      "outputs": [
        {
          "output_type": "stream",
          "name": "stdout",
          "text": [
            "Downloaded https://tfhub.dev/google/universal-sentence-encoder-large/5, Total size: 577.10MB\n",
            "\n"
          ]
        }
      ]
    },
    {
      "cell_type": "markdown",
      "metadata": {
        "id": "ndTFfDDLgZvc"
      },
      "source": [
        "##### **GETTING USER INPUT TO RETRIEVE WIKI PAGES**"
      ]
    },
    {
      "cell_type": "code",
      "metadata": {
        "colab": {
          "base_uri": "https://localhost:8080/"
        },
        "id": "YFTsKMBqdv0w",
        "outputId": "eb94f5ad-864c-4e9d-c2e2-8a1cf8dfea5d"
      },
      "source": [
        "question = input(\"enter the text to search!!!\")\n",
        "doc1=nlp(question)\n",
        "search_text=''\n",
        "for token in doc1:\n",
        "  if token.pos_ in ('PROPN', 'NUM', 'VERB', 'NOUN', 'ADJ'):\n",
        "    search_text +=' '+ token.text\n",
        "\n",
        "search_text=search_text.strip()"
      ],
      "execution_count": 216,
      "outputs": [
        {
          "name": "stdout",
          "output_type": "stream",
          "text": [
            "enter the text to search!!!who is steven spielberg?\n"
          ]
        }
      ]
    },
    {
      "cell_type": "code",
      "metadata": {
        "id": "Vo_k1tjlkW41"
      },
      "source": [
        "import time\n",
        "start_time = time.time()\n",
        "#check process running time"
      ],
      "execution_count": 254,
      "outputs": []
    },
    {
      "cell_type": "code",
      "metadata": {
        "colab": {
          "base_uri": "https://localhost:8080/",
          "height": 35
        },
        "id": "692ijawInBWY",
        "outputId": "0a3c7425-fda0-408b-c4c0-d6afc2a3e6e8"
      },
      "source": [
        "doc1.text"
      ],
      "execution_count": 255,
      "outputs": [
        {
          "output_type": "execute_result",
          "data": {
            "application/vnd.google.colaboratory.intrinsic+json": {
              "type": "string"
            },
            "text/plain": [
              "'who is steven spielberg?'"
            ]
          },
          "metadata": {},
          "execution_count": 255
        }
      ]
    },
    {
      "cell_type": "code",
      "metadata": {
        "colab": {
          "base_uri": "https://localhost:8080/"
        },
        "id": "P5unpS-osxC4",
        "outputId": "47f0caab-bdcf-4c9c-fa13-4f0747227152"
      },
      "source": [
        "for token in doc1:\n",
        "  print(token,token.pos_)"
      ],
      "execution_count": 256,
      "outputs": [
        {
          "output_type": "stream",
          "name": "stdout",
          "text": [
            "who PRON\n",
            "is AUX\n",
            "steven PROPN\n",
            "spielberg PROPN\n",
            "? PUNCT\n"
          ]
        }
      ]
    },
    {
      "cell_type": "code",
      "metadata": {
        "colab": {
          "base_uri": "https://localhost:8080/",
          "height": 35
        },
        "id": "UZnFFv4sG9R-",
        "outputId": "6b621683-5be5-43e9-ea59-30fb4669638b"
      },
      "source": [
        "search_text"
      ],
      "execution_count": 257,
      "outputs": [
        {
          "output_type": "execute_result",
          "data": {
            "application/vnd.google.colaboratory.intrinsic+json": {
              "type": "string"
            },
            "text/plain": [
              "'steven spielberg'"
            ]
          },
          "metadata": {},
          "execution_count": 257
        }
      ]
    },
    {
      "cell_type": "markdown",
      "metadata": {
        "id": "PHrN7CaOgyVe"
      },
      "source": [
        "##### **Wiki PAGES RETRIEVING ( DATA IMPORTING )**"
      ]
    },
    {
      "cell_type": "code",
      "metadata": {
        "id": "3MmIc_RYkaUs"
      },
      "source": [
        "#search and retrieve wiki pages using pytohn wikipedia API module\n",
        "#pass the neceesary pages to retrieve (example:1 or 2 or 3)\n",
        "search_results = wikipedia.search(search_text,results = 1)\n",
        "\n",
        "search_results_pages=[]\n",
        "\n",
        "# add pages to list\n",
        "for docs in search_results:\n",
        "  search_results_pages.append(wikipedia.page(docs, auto_suggest=False))"
      ],
      "execution_count": 258,
      "outputs": []
    },
    {
      "cell_type": "code",
      "metadata": {
        "colab": {
          "base_uri": "https://localhost:8080/"
        },
        "id": "N6AZaDUtemIM",
        "outputId": "ab619e94-f3e9-46cd-97b2-f478e7adcc7f"
      },
      "source": [
        "#lisitng search pages\n",
        "search_results_pages"
      ],
      "execution_count": 259,
      "outputs": [
        {
          "output_type": "execute_result",
          "data": {
            "text/plain": [
              "[<WikipediaPage 'Steven Spielberg'>]"
            ]
          },
          "metadata": {},
          "execution_count": 259
        }
      ]
    },
    {
      "cell_type": "markdown",
      "metadata": {
        "id": "RruhRNgIg9EF"
      },
      "source": [
        "##### **ADDING MATCHER AND PERFORM REQUIRED CONTEXT EXTRACTION( DATA SELECTION )**"
      ]
    },
    {
      "cell_type": "code",
      "metadata": {
        "id": "-5pwcQkLq-uu"
      },
      "source": [
        "#extracting sentence with the required matches with spacy matcher\n",
        "phrase_matcher = PhraseMatcher(nlp.vocab)\n",
        "phrases = [x for x in search_text.split()]\n",
        "patterns = [nlp(text) for text in phrases]\n",
        "Upper_Case = [nlp(text.upper()) for text in phrases]\n",
        "Capitalize = [nlp(text.capitalize()) for text in phrases]\n",
        "Lower = [nlp(text.lower()) for text in phrases]\n",
        "phrase_matcher.add('Matches', None, *patterns)\n",
        "phrase_matcher.add('Upper_Case', None, *Upper_Case)\n",
        "phrase_matcher.add('Capitalize', None, *Capitalize)\n",
        "phrase_matcher.add('Lower', None, *Lower)\n",
        "final_docs=''"
      ],
      "execution_count": 260,
      "outputs": []
    },
    {
      "cell_type": "code",
      "metadata": {
        "id": "op4oSvzK-OME",
        "colab": {
          "base_uri": "https://localhost:8080/"
        },
        "outputId": "fd33c6a1-40df-4708-da63-f2c17d0cbe66"
      },
      "source": [
        "# creating a pandas dataframe to store matches on wikipedia articles.\n",
        "df = pd.DataFrame({'Wiki_Page': pd.Series(dtype='str'),\n",
        "                   'Wikipedia_Setences': pd.Series(dtype='str')})\n",
        "df_columns=list(df)\n",
        "df_columns"
      ],
      "execution_count": 261,
      "outputs": [
        {
          "output_type": "execute_result",
          "data": {
            "text/plain": [
              "['Wiki_Page', 'Wikipedia_Setences']"
            ]
          },
          "metadata": {},
          "execution_count": 261
        }
      ]
    },
    {
      "cell_type": "code",
      "metadata": {
        "id": "jUzRamI5pGZI"
      },
      "source": [
        "#function to find and extract paragraph of doc\n",
        "def paragraphs(document):\n",
        "    start = 0\n",
        "    for token in document:\n",
        "        if token.is_space and token.text.count(\"\\n\") > 1:\n",
        "            yield document[start:token.i]\n",
        "            start = token.i\n",
        "    yield document[start:]"
      ],
      "execution_count": 262,
      "outputs": []
    },
    {
      "cell_type": "code",
      "metadata": {
        "id": "H7b2EOSUodnJ"
      },
      "source": [
        "#retrieve matching context\n",
        "for x in search_results_pages:\n",
        "  final_docs=''\n",
        "  for y in paragraphs(nlp(x.content)):\n",
        "    b=nlp(y.text)\n",
        "    for match_id, start, end in phrase_matcher(b):\n",
        "      if nlp.vocab.strings[match_id] in [\"Matches\",\"Upper_Case\",\"Capitalize\",\"Lower\"]:\n",
        "        final_docs=b.text\n",
        "        doc2=nlp(final_docs)\n",
        "        values=[x,final_docs]\n",
        "        zipped = zip(df_columns, values)\n",
        "        append_dictionary = dict(zipped)\n",
        "        df = df.append(append_dictionary, ignore_index=True)"
      ],
      "execution_count": 263,
      "outputs": []
    },
    {
      "cell_type": "code",
      "metadata": {
        "colab": {
          "base_uri": "https://localhost:8080/",
          "height": 803
        },
        "id": "heSn2HnoRprl",
        "outputId": "e609bbd9-b223-4de5-bf98-e6b8f1636684"
      },
      "source": [
        "#drop duplicates\n",
        "df = df.loc[df.astype(str).drop_duplicates().index]\n",
        "df"
      ],
      "execution_count": 264,
      "outputs": [
        {
          "output_type": "execute_result",
          "data": {
            "text/html": [
              "<div>\n",
              "<style scoped>\n",
              "    .dataframe tbody tr th:only-of-type {\n",
              "        vertical-align: middle;\n",
              "    }\n",
              "\n",
              "    .dataframe tbody tr th {\n",
              "        vertical-align: top;\n",
              "    }\n",
              "\n",
              "    .dataframe thead th {\n",
              "        text-align: right;\n",
              "    }\n",
              "</style>\n",
              "<table border=\"1\" class=\"dataframe\">\n",
              "  <thead>\n",
              "    <tr style=\"text-align: right;\">\n",
              "      <th></th>\n",
              "      <th>Wiki_Page</th>\n",
              "      <th>Wikipedia_Setences</th>\n",
              "    </tr>\n",
              "  </thead>\n",
              "  <tbody>\n",
              "    <tr>\n",
              "      <th>0</th>\n",
              "      <td>&lt;WikipediaPage 'Steven Spielberg'&gt;</td>\n",
              "      <td>Steven Allan Spielberg (; born December 18, 19...</td>\n",
              "    </tr>\n",
              "    <tr>\n",
              "      <th>8</th>\n",
              "      <td>&lt;WikipediaPage 'Steven Spielberg'&gt;</td>\n",
              "      <td>\\n\\n\\n== Early life and background ==\\nSteven ...</td>\n",
              "    </tr>\n",
              "    <tr>\n",
              "      <th>25</th>\n",
              "      <td>&lt;WikipediaPage 'Steven Spielberg'&gt;</td>\n",
              "      <td>\\n\\n\\n=== 1969–1974: Entering film and televis...</td>\n",
              "    </tr>\n",
              "    <tr>\n",
              "      <th>28</th>\n",
              "      <td>&lt;WikipediaPage 'Steven Spielberg'&gt;</td>\n",
              "      <td>\\n\\nWhen I began to work with Steven, I unders...</td>\n",
              "    </tr>\n",
              "    <tr>\n",
              "      <th>40</th>\n",
              "      <td>&lt;WikipediaPage 'Steven Spielberg'&gt;</td>\n",
              "      <td>\\n\\n\\n=== 1975–1983: Film breakthrough ===\\nPr...</td>\n",
              "    </tr>\n",
              "    <tr>\n",
              "      <th>58</th>\n",
              "      <td>&lt;WikipediaPage 'Steven Spielberg'&gt;</td>\n",
              "      <td>\\n\\n\\n=== 1984–1990: From producing to directi...</td>\n",
              "    </tr>\n",
              "    <tr>\n",
              "      <th>81</th>\n",
              "      <td>&lt;WikipediaPage 'Steven Spielberg'&gt;</td>\n",
              "      <td>\\n\\nAfter a brief setback in which the directo...</td>\n",
              "    </tr>\n",
              "    <tr>\n",
              "      <th>102</th>\n",
              "      <td>&lt;WikipediaPage 'Steven Spielberg'&gt;</td>\n",
              "      <td>\\n\\n\\n=== 1999–2007: Further directorial work ...</td>\n",
              "    </tr>\n",
              "    <tr>\n",
              "      <th>122</th>\n",
              "      <td>&lt;WikipediaPage 'Steven Spielberg'&gt;</td>\n",
              "      <td>\\n\\n\\n=== 2008–2015: Return to film ===\\nSpiel...</td>\n",
              "    </tr>\n",
              "    <tr>\n",
              "      <th>133</th>\n",
              "      <td>&lt;WikipediaPage 'Steven Spielberg'&gt;</td>\n",
              "      <td>\\n\\n\\n=== 2016–present ===\\nIn 2016, Spielberg...</td>\n",
              "    </tr>\n",
              "    <tr>\n",
              "      <th>149</th>\n",
              "      <td>&lt;WikipediaPage 'Steven Spielberg'&gt;</td>\n",
              "      <td>\\n\\n\\n== Prospective projects ==\\nIn May 2009,...</td>\n",
              "    </tr>\n",
              "    <tr>\n",
              "      <th>162</th>\n",
              "      <td>&lt;WikipediaPage 'Steven Spielberg'&gt;</td>\n",
              "      <td>\\n\\n\\n== Other ventures ==\\nThe director has b...</td>\n",
              "    </tr>\n",
              "    <tr>\n",
              "      <th>168</th>\n",
              "      <td>&lt;WikipediaPage 'Steven Spielberg'&gt;</td>\n",
              "      <td>\\n\\n\\n=== Influences ===\\nSpielberg has cited ...</td>\n",
              "    </tr>\n",
              "    <tr>\n",
              "      <th>170</th>\n",
              "      <td>&lt;WikipediaPage 'Steven Spielberg'&gt;</td>\n",
              "      <td>\\n\\n\\n=== Method and themes ===\\nSpielberg oft...</td>\n",
              "    </tr>\n",
              "    <tr>\n",
              "      <th>176</th>\n",
              "      <td>&lt;WikipediaPage 'Steven Spielberg'&gt;</td>\n",
              "      <td>\\n\\n\\n=== Collaborators ===\\nJanusz Kamiński h...</td>\n",
              "    </tr>\n",
              "    <tr>\n",
              "      <th>180</th>\n",
              "      <td>&lt;WikipediaPage 'Steven Spielberg'&gt;</td>\n",
              "      <td>\\n\\n\\n==== John Williams ====\\nThe Sugarland E...</td>\n",
              "    </tr>\n",
              "    <tr>\n",
              "      <th>186</th>\n",
              "      <td>&lt;WikipediaPage 'Steven Spielberg'&gt;</td>\n",
              "      <td>\\n\\n\\n== Personal life ==\\nSpielberg met actre...</td>\n",
              "    </tr>\n",
              "    <tr>\n",
              "      <th>200</th>\n",
              "      <td>&lt;WikipediaPage 'Steven Spielberg'&gt;</td>\n",
              "      <td>\\n\\n\\n== Political views ==\\nSpielberg has usu...</td>\n",
              "    </tr>\n",
              "    <tr>\n",
              "      <th>211</th>\n",
              "      <td>&lt;WikipediaPage 'Steven Spielberg'&gt;</td>\n",
              "      <td>\\n\\n\\n== Legacy ==\\nA notable figure of the Ne...</td>\n",
              "    </tr>\n",
              "    <tr>\n",
              "      <th>227</th>\n",
              "      <td>&lt;WikipediaPage 'Steven Spielberg'&gt;</td>\n",
              "      <td>\\n\\n \\nSpielberg has won three Academy Awards....</td>\n",
              "    </tr>\n",
              "    <tr>\n",
              "      <th>245</th>\n",
              "      <td>&lt;WikipediaPage 'Steven Spielberg'&gt;</td>\n",
              "      <td>\\n\\nProlific in film since the 1960s, Spielber...</td>\n",
              "    </tr>\n",
              "    <tr>\n",
              "      <th>246</th>\n",
              "      <td>&lt;WikipediaPage 'Steven Spielberg'&gt;</td>\n",
              "      <td>\\n\\nActing and cameos\\nSpielberg had numerous ...</td>\n",
              "    </tr>\n",
              "    <tr>\n",
              "      <th>248</th>\n",
              "      <td>&lt;WikipediaPage 'Steven Spielberg'&gt;</td>\n",
              "      <td>\\n\\n\\n== See also ==\\nDirectors with two films...</td>\n",
              "    </tr>\n",
              "    <tr>\n",
              "      <th>250</th>\n",
              "      <td>&lt;WikipediaPage 'Steven Spielberg'&gt;</td>\n",
              "      <td>\\n\\n\\n=== Bibliography ===\\nJackson, Kathi (20...</td>\n",
              "    </tr>\n",
              "    <tr>\n",
              "      <th>271</th>\n",
              "      <td>&lt;WikipediaPage 'Steven Spielberg'&gt;</td>\n",
              "      <td>\\n\\nSteven Spielberg at IMDb\\nSteven Spielberg...</td>\n",
              "    </tr>\n",
              "  </tbody>\n",
              "</table>\n",
              "</div>"
            ],
            "text/plain": [
              "                              Wiki_Page                                 Wikipedia_Setences\n",
              "0    <WikipediaPage 'Steven Spielberg'>  Steven Allan Spielberg (; born December 18, 19...\n",
              "8    <WikipediaPage 'Steven Spielberg'>  \\n\\n\\n== Early life and background ==\\nSteven ...\n",
              "25   <WikipediaPage 'Steven Spielberg'>  \\n\\n\\n=== 1969–1974: Entering film and televis...\n",
              "28   <WikipediaPage 'Steven Spielberg'>  \\n\\nWhen I began to work with Steven, I unders...\n",
              "40   <WikipediaPage 'Steven Spielberg'>  \\n\\n\\n=== 1975–1983: Film breakthrough ===\\nPr...\n",
              "58   <WikipediaPage 'Steven Spielberg'>  \\n\\n\\n=== 1984–1990: From producing to directi...\n",
              "81   <WikipediaPage 'Steven Spielberg'>  \\n\\nAfter a brief setback in which the directo...\n",
              "102  <WikipediaPage 'Steven Spielberg'>  \\n\\n\\n=== 1999–2007: Further directorial work ...\n",
              "122  <WikipediaPage 'Steven Spielberg'>  \\n\\n\\n=== 2008–2015: Return to film ===\\nSpiel...\n",
              "133  <WikipediaPage 'Steven Spielberg'>  \\n\\n\\n=== 2016–present ===\\nIn 2016, Spielberg...\n",
              "149  <WikipediaPage 'Steven Spielberg'>  \\n\\n\\n== Prospective projects ==\\nIn May 2009,...\n",
              "162  <WikipediaPage 'Steven Spielberg'>  \\n\\n\\n== Other ventures ==\\nThe director has b...\n",
              "168  <WikipediaPage 'Steven Spielberg'>  \\n\\n\\n=== Influences ===\\nSpielberg has cited ...\n",
              "170  <WikipediaPage 'Steven Spielberg'>  \\n\\n\\n=== Method and themes ===\\nSpielberg oft...\n",
              "176  <WikipediaPage 'Steven Spielberg'>  \\n\\n\\n=== Collaborators ===\\nJanusz Kamiński h...\n",
              "180  <WikipediaPage 'Steven Spielberg'>  \\n\\n\\n==== John Williams ====\\nThe Sugarland E...\n",
              "186  <WikipediaPage 'Steven Spielberg'>  \\n\\n\\n== Personal life ==\\nSpielberg met actre...\n",
              "200  <WikipediaPage 'Steven Spielberg'>  \\n\\n\\n== Political views ==\\nSpielberg has usu...\n",
              "211  <WikipediaPage 'Steven Spielberg'>  \\n\\n\\n== Legacy ==\\nA notable figure of the Ne...\n",
              "227  <WikipediaPage 'Steven Spielberg'>  \\n\\n \\nSpielberg has won three Academy Awards....\n",
              "245  <WikipediaPage 'Steven Spielberg'>  \\n\\nProlific in film since the 1960s, Spielber...\n",
              "246  <WikipediaPage 'Steven Spielberg'>  \\n\\nActing and cameos\\nSpielberg had numerous ...\n",
              "248  <WikipediaPage 'Steven Spielberg'>  \\n\\n\\n== See also ==\\nDirectors with two films...\n",
              "250  <WikipediaPage 'Steven Spielberg'>  \\n\\n\\n=== Bibliography ===\\nJackson, Kathi (20...\n",
              "271  <WikipediaPage 'Steven Spielberg'>  \\n\\nSteven Spielberg at IMDb\\nSteven Spielberg..."
            ]
          },
          "metadata": {},
          "execution_count": 264
        }
      ]
    },
    {
      "cell_type": "code",
      "metadata": {
        "id": "EmmeAvfIDFqW"
      },
      "source": [
        "#write to CSV\n",
        "df.to_csv(\"Matching Wiki context.csv\")"
      ],
      "execution_count": 265,
      "outputs": []
    },
    {
      "cell_type": "code",
      "metadata": {
        "id": "aLXhE3O4OA4g"
      },
      "source": [
        "removed_sp_char_Df = df\n",
        "removed_sp_char_Df['Wikipedia_Setences'] = [re.sub(r\"[^a-zA-Z0-9]+\", ' ', doc) for doc in df['Wikipedia_Setences']]"
      ],
      "execution_count": 266,
      "outputs": []
    },
    {
      "cell_type": "code",
      "metadata": {
        "colab": {
          "base_uri": "https://localhost:8080/",
          "height": 803
        },
        "id": "5DRJNM66U7Y6",
        "outputId": "9f03343a-424f-4b37-8d6a-517bc5e5e2d4"
      },
      "source": [
        "removed_sp_char_Df.reset_index(inplace=True)\n",
        "removed_sp_char_Df.drop(columns=['index'],inplace=True)\n",
        "removed_sp_char_Df"
      ],
      "execution_count": 267,
      "outputs": [
        {
          "output_type": "execute_result",
          "data": {
            "text/html": [
              "<div>\n",
              "<style scoped>\n",
              "    .dataframe tbody tr th:only-of-type {\n",
              "        vertical-align: middle;\n",
              "    }\n",
              "\n",
              "    .dataframe tbody tr th {\n",
              "        vertical-align: top;\n",
              "    }\n",
              "\n",
              "    .dataframe thead th {\n",
              "        text-align: right;\n",
              "    }\n",
              "</style>\n",
              "<table border=\"1\" class=\"dataframe\">\n",
              "  <thead>\n",
              "    <tr style=\"text-align: right;\">\n",
              "      <th></th>\n",
              "      <th>Wiki_Page</th>\n",
              "      <th>Wikipedia_Setences</th>\n",
              "    </tr>\n",
              "  </thead>\n",
              "  <tbody>\n",
              "    <tr>\n",
              "      <th>0</th>\n",
              "      <td>&lt;WikipediaPage 'Steven Spielberg'&gt;</td>\n",
              "      <td>Steven Allan Spielberg born December 18 1946 i...</td>\n",
              "    </tr>\n",
              "    <tr>\n",
              "      <th>1</th>\n",
              "      <td>&lt;WikipediaPage 'Steven Spielberg'&gt;</td>\n",
              "      <td>Early life and background Steven Allan Spielb...</td>\n",
              "    </tr>\n",
              "    <tr>\n",
              "      <th>2</th>\n",
              "      <td>&lt;WikipediaPage 'Steven Spielberg'&gt;</td>\n",
              "      <td>1969 1974 Entering film and television Spielb...</td>\n",
              "    </tr>\n",
              "    <tr>\n",
              "      <th>3</th>\n",
              "      <td>&lt;WikipediaPage 'Steven Spielberg'&gt;</td>\n",
              "      <td>When I began to work with Steven I understood...</td>\n",
              "    </tr>\n",
              "    <tr>\n",
              "      <th>4</th>\n",
              "      <td>&lt;WikipediaPage 'Steven Spielberg'&gt;</td>\n",
              "      <td>1975 1983 Film breakthrough Producers Richard...</td>\n",
              "    </tr>\n",
              "    <tr>\n",
              "      <th>5</th>\n",
              "      <td>&lt;WikipediaPage 'Steven Spielberg'&gt;</td>\n",
              "      <td>1984 1990 From producing to directing In 1984...</td>\n",
              "    </tr>\n",
              "    <tr>\n",
              "      <th>6</th>\n",
              "      <td>&lt;WikipediaPage 'Steven Spielberg'&gt;</td>\n",
              "      <td>After a brief setback in which the director f...</td>\n",
              "    </tr>\n",
              "    <tr>\n",
              "      <th>7</th>\n",
              "      <td>&lt;WikipediaPage 'Steven Spielberg'&gt;</td>\n",
              "      <td>1999 2007 Further directorial work In 2001 Sp...</td>\n",
              "    </tr>\n",
              "    <tr>\n",
              "      <th>8</th>\n",
              "      <td>&lt;WikipediaPage 'Steven Spielberg'&gt;</td>\n",
              "      <td>2008 2015 Return to film Spielberg returned t...</td>\n",
              "    </tr>\n",
              "    <tr>\n",
              "      <th>9</th>\n",
              "      <td>&lt;WikipediaPage 'Steven Spielberg'&gt;</td>\n",
              "      <td>2016 present In 2016 Spielberg made The BFG a...</td>\n",
              "    </tr>\n",
              "    <tr>\n",
              "      <th>10</th>\n",
              "      <td>&lt;WikipediaPage 'Steven Spielberg'&gt;</td>\n",
              "      <td>Prospective projects In May 2009 Spielberg bo...</td>\n",
              "    </tr>\n",
              "    <tr>\n",
              "      <th>11</th>\n",
              "      <td>&lt;WikipediaPage 'Steven Spielberg'&gt;</td>\n",
              "      <td>Other ventures The director has been an avid ...</td>\n",
              "    </tr>\n",
              "    <tr>\n",
              "      <th>12</th>\n",
              "      <td>&lt;WikipediaPage 'Steven Spielberg'&gt;</td>\n",
              "      <td>Influences Spielberg has cited Frank Capra s ...</td>\n",
              "    </tr>\n",
              "    <tr>\n",
              "      <th>13</th>\n",
              "      <td>&lt;WikipediaPage 'Steven Spielberg'&gt;</td>\n",
              "      <td>Method and themes Spielberg often uses storyb...</td>\n",
              "    </tr>\n",
              "    <tr>\n",
              "      <th>14</th>\n",
              "      <td>&lt;WikipediaPage 'Steven Spielberg'&gt;</td>\n",
              "      <td>Collaborators Janusz Kami ski has served as a...</td>\n",
              "    </tr>\n",
              "    <tr>\n",
              "      <th>15</th>\n",
              "      <td>&lt;WikipediaPage 'Steven Spielberg'&gt;</td>\n",
              "      <td>John Williams The Sugarland Express began Spi...</td>\n",
              "    </tr>\n",
              "    <tr>\n",
              "      <th>16</th>\n",
              "      <td>&lt;WikipediaPage 'Steven Spielberg'&gt;</td>\n",
              "      <td>Personal life Spielberg met actress Amy Irvin...</td>\n",
              "    </tr>\n",
              "    <tr>\n",
              "      <th>17</th>\n",
              "      <td>&lt;WikipediaPage 'Steven Spielberg'&gt;</td>\n",
              "      <td>Political views Spielberg has usually support...</td>\n",
              "    </tr>\n",
              "    <tr>\n",
              "      <th>18</th>\n",
              "      <td>&lt;WikipediaPage 'Steven Spielberg'&gt;</td>\n",
              "      <td>Legacy A notable figure of the New Hollywood ...</td>\n",
              "    </tr>\n",
              "    <tr>\n",
              "      <th>19</th>\n",
              "      <td>&lt;WikipediaPage 'Steven Spielberg'&gt;</td>\n",
              "      <td>Spielberg has won three Academy Awards He rec...</td>\n",
              "    </tr>\n",
              "    <tr>\n",
              "      <th>20</th>\n",
              "      <td>&lt;WikipediaPage 'Steven Spielberg'&gt;</td>\n",
              "      <td>Prolific in film since the 1960s Spielberg ha...</td>\n",
              "    </tr>\n",
              "    <tr>\n",
              "      <th>21</th>\n",
              "      <td>&lt;WikipediaPage 'Steven Spielberg'&gt;</td>\n",
              "      <td>Acting and cameos Spielberg had numerous came...</td>\n",
              "    </tr>\n",
              "    <tr>\n",
              "      <th>22</th>\n",
              "      <td>&lt;WikipediaPage 'Steven Spielberg'&gt;</td>\n",
              "      <td>See also Directors with two films rated A by ...</td>\n",
              "    </tr>\n",
              "    <tr>\n",
              "      <th>23</th>\n",
              "      <td>&lt;WikipediaPage 'Steven Spielberg'&gt;</td>\n",
              "      <td>Bibliography Jackson Kathi 2007 Steven Spielb...</td>\n",
              "    </tr>\n",
              "    <tr>\n",
              "      <th>24</th>\n",
              "      <td>&lt;WikipediaPage 'Steven Spielberg'&gt;</td>\n",
              "      <td>Steven Spielberg at IMDb Steven Spielberg at ...</td>\n",
              "    </tr>\n",
              "  </tbody>\n",
              "</table>\n",
              "</div>"
            ],
            "text/plain": [
              "                             Wiki_Page                                 Wikipedia_Setences\n",
              "0   <WikipediaPage 'Steven Spielberg'>  Steven Allan Spielberg born December 18 1946 i...\n",
              "1   <WikipediaPage 'Steven Spielberg'>   Early life and background Steven Allan Spielb...\n",
              "2   <WikipediaPage 'Steven Spielberg'>   1969 1974 Entering film and television Spielb...\n",
              "3   <WikipediaPage 'Steven Spielberg'>   When I began to work with Steven I understood...\n",
              "4   <WikipediaPage 'Steven Spielberg'>   1975 1983 Film breakthrough Producers Richard...\n",
              "5   <WikipediaPage 'Steven Spielberg'>   1984 1990 From producing to directing In 1984...\n",
              "6   <WikipediaPage 'Steven Spielberg'>   After a brief setback in which the director f...\n",
              "7   <WikipediaPage 'Steven Spielberg'>   1999 2007 Further directorial work In 2001 Sp...\n",
              "8   <WikipediaPage 'Steven Spielberg'>   2008 2015 Return to film Spielberg returned t...\n",
              "9   <WikipediaPage 'Steven Spielberg'>   2016 present In 2016 Spielberg made The BFG a...\n",
              "10  <WikipediaPage 'Steven Spielberg'>   Prospective projects In May 2009 Spielberg bo...\n",
              "11  <WikipediaPage 'Steven Spielberg'>   Other ventures The director has been an avid ...\n",
              "12  <WikipediaPage 'Steven Spielberg'>   Influences Spielberg has cited Frank Capra s ...\n",
              "13  <WikipediaPage 'Steven Spielberg'>   Method and themes Spielberg often uses storyb...\n",
              "14  <WikipediaPage 'Steven Spielberg'>   Collaborators Janusz Kami ski has served as a...\n",
              "15  <WikipediaPage 'Steven Spielberg'>   John Williams The Sugarland Express began Spi...\n",
              "16  <WikipediaPage 'Steven Spielberg'>   Personal life Spielberg met actress Amy Irvin...\n",
              "17  <WikipediaPage 'Steven Spielberg'>   Political views Spielberg has usually support...\n",
              "18  <WikipediaPage 'Steven Spielberg'>   Legacy A notable figure of the New Hollywood ...\n",
              "19  <WikipediaPage 'Steven Spielberg'>   Spielberg has won three Academy Awards He rec...\n",
              "20  <WikipediaPage 'Steven Spielberg'>   Prolific in film since the 1960s Spielberg ha...\n",
              "21  <WikipediaPage 'Steven Spielberg'>   Acting and cameos Spielberg had numerous came...\n",
              "22  <WikipediaPage 'Steven Spielberg'>   See also Directors with two films rated A by ...\n",
              "23  <WikipediaPage 'Steven Spielberg'>   Bibliography Jackson Kathi 2007 Steven Spielb...\n",
              "24  <WikipediaPage 'Steven Spielberg'>   Steven Spielberg at IMDb Steven Spielberg at ..."
            ]
          },
          "metadata": {},
          "execution_count": 267
        }
      ]
    },
    {
      "cell_type": "code",
      "metadata": {
        "id": "R_cppOQvWDPO"
      },
      "source": [
        "#write to CSV for reference\n",
        "removed_sp_char_Df.to_csv('Cleaned_context.csv')"
      ],
      "execution_count": 268,
      "outputs": []
    },
    {
      "cell_type": "code",
      "metadata": {
        "id": "Rm0rBLh1bBfi",
        "colab": {
          "base_uri": "https://localhost:8080/"
        },
        "outputId": "a97839f4-878a-48ff-bb7f-ae1bab9c3af4"
      },
      "source": [
        "# creating a pandas dataframe to store Matches along with similarity score based on sentence embedding techniques\n",
        "Context_Similarity = pd.DataFrame({'Context': pd.Series(dtype='str'),\n",
        "                   'Similarity': pd.Series(dtype='str')})\n",
        "\n",
        "columns=list(Context_Similarity)\n",
        "columns"
      ],
      "execution_count": 269,
      "outputs": [
        {
          "output_type": "execute_result",
          "data": {
            "text/plain": [
              "['Context', 'Similarity']"
            ]
          },
          "metadata": {},
          "execution_count": 269
        }
      ]
    },
    {
      "cell_type": "markdown",
      "metadata": {
        "id": "539XVN0CiLQV"
      },
      "source": [
        "##### **PERFORM DATA WRANGLING/FEATURE EXTRACTION - STOP WORD REMOVAL, LEMMATIZATION, SENTENCE EMEDING & NECESSARY CONTEXT EXTRACTION/RANKING**"
      ]
    },
    {
      "cell_type": "code",
      "metadata": {
        "id": "YER__Jiq8_r_"
      },
      "source": [
        "#get the stop words to remove\n",
        "spacy_stopwords = spacy.lang.en.stop_words.STOP_WORDS"
      ],
      "execution_count": 270,
      "outputs": []
    },
    {
      "cell_type": "code",
      "metadata": {
        "id": "fZpk9VbUHwH1",
        "colab": {
          "base_uri": "https://localhost:8080/"
        },
        "outputId": "1ab04314-a9b4-4a97-eac3-11aab3ec97bb"
      },
      "source": [
        "#remove punctutations and other unnecessary stuff from doc\n",
        "#corpus = [re.sub(r\"[^a-zA-Z0-9]+\", ' ', doc) for doc in df['Wikipedia_Setences']]\n",
        "corpus=removed_sp_char_Df['Wikipedia_Setences']\n",
        "corpus"
      ],
      "execution_count": 271,
      "outputs": [
        {
          "output_type": "execute_result",
          "data": {
            "text/plain": [
              "0     Steven Allan Spielberg born December 18 1946 i...\n",
              "1      Early life and background Steven Allan Spielb...\n",
              "2      1969 1974 Entering film and television Spielb...\n",
              "3      When I began to work with Steven I understood...\n",
              "4      1975 1983 Film breakthrough Producers Richard...\n",
              "5      1984 1990 From producing to directing In 1984...\n",
              "6      After a brief setback in which the director f...\n",
              "7      1999 2007 Further directorial work In 2001 Sp...\n",
              "8      2008 2015 Return to film Spielberg returned t...\n",
              "9      2016 present In 2016 Spielberg made The BFG a...\n",
              "10     Prospective projects In May 2009 Spielberg bo...\n",
              "11     Other ventures The director has been an avid ...\n",
              "12     Influences Spielberg has cited Frank Capra s ...\n",
              "13     Method and themes Spielberg often uses storyb...\n",
              "14     Collaborators Janusz Kami ski has served as a...\n",
              "15     John Williams The Sugarland Express began Spi...\n",
              "16     Personal life Spielberg met actress Amy Irvin...\n",
              "17     Political views Spielberg has usually support...\n",
              "18     Legacy A notable figure of the New Hollywood ...\n",
              "19     Spielberg has won three Academy Awards He rec...\n",
              "20     Prolific in film since the 1960s Spielberg ha...\n",
              "21     Acting and cameos Spielberg had numerous came...\n",
              "22     See also Directors with two films rated A by ...\n",
              "23     Bibliography Jackson Kathi 2007 Steven Spielb...\n",
              "24     Steven Spielberg at IMDb Steven Spielberg at ...\n",
              "Name: Wikipedia_Setences, dtype: object"
            ]
          },
          "metadata": {},
          "execution_count": 271
        }
      ]
    },
    {
      "cell_type": "code",
      "metadata": {
        "colab": {
          "base_uri": "https://localhost:8080/"
        },
        "id": "U5hWM6q8VUNu",
        "outputId": "0dbe87b9-2ed6-4c38-ddb3-f375260d9172"
      },
      "source": [
        "#do lemmatization inorder to convert to canonical form & remove stop words.\n",
        "lemma_process=lambda text: \" \".join([token.lemma_ for token in nlp(text) if not token.is_stop])\n",
        "\n",
        "# list created post lemmatization & stop word removal\n",
        "canonical=[]\n",
        "\n",
        "#loop over corpus and perform lemmatization & stop word removal\n",
        "for x in corpus:\n",
        "  canonical.append(lemma_process(x))\n",
        "\n",
        "#list in canonical form\n",
        "canonical"
      ],
      "execution_count": 272,
      "outputs": [
        {
          "output_type": "execute_result",
          "data": {
            "text/plain": [
              "['Steven Allan Spielberg bear December 18 1946 american film director producer screenwriter begin career New Hollywood era currently commercially successful director Spielberg recipient accolade include Academy Awards Best Director Kennedy Center honor Cecil B DeMille Award AFI Life Achievement Award Spielberg bear Cincinnati Ohio grow Phoenix Arizona later move California study film college direct television episode minor film Universal Studios household direct 1975 s summer blockbuster Jaws direct box office success close encounter Kind 1977 e T Extra terrestrial 1982 adventure film Indiana Jones series Spielberg later explore drama Color Purple 1985 Empire Sun 1987 brief hiatus direct box office success acclaimed science fiction action film Jurassic Park holocaust drama Schindler s List 1993 1998 direct World War II epic save Private Ryan critical commercial success Spielberg continue 2000s science fiction include Artificial Intelligence 2001 Minority Report 2002 War Worlds 2005 direct fantasy film include Adventures Tintin 2011 Ready Player 2018 historical drama War Horse 2011 Lincoln 2012 Post 2017 addition filmmaking co found Amblin Entertainment DreamWorks serve producer television series film Spielberg know long time collaboration composer John Williams work feature film Spielberg s work high gross film time receive acclaim seven film induct National Film Registry Library Congress culturally historically aesthetically significant',\n",
              " '  early life background Steven Allan Spielberg bear December 18 1946 Cincinnati Ohio mother Leah n e Posner later Adler 1920 2017 restaurateur concert pianist father Arnold Spielberg 1917 2020 electrical engineer involve development computer family Orthodox Jewish Spielberg s paternal grandparent Ashkenazi Jews Ukraine settle Cincinnati 1900 grandmother Sudylkiv grandfather Kamianets Podilskyi Spielberg young sister Anne Sue Nancy 1952 family move Haddon Township New Jersey father hire RCA Spielberg attend Hebrew school 1953 1957 class teach Rabbi Albert L Lewis early 1957 family move Phoenix Arizona Spielberg bar mitzvah ceremony thirteen family involve synagogue jewish friend Holocaust say parent talk time mind father lose sixteen relative Holocaust Spielberg find difficult accept heritage say isn t enjoy admit seven year old God forgive embarrassed Orthodox Jews embarrass outward perception parent jewish practice ashamed jewish uneasy time Spielberg suffer anti Semitism high school got smack kick bloody nose horrible grow away Judaism adolescence family move neighborhood find Jews age 12 home movie train wreck involve toy Lionel train 1958 Boy Scout fulfil requirement photography merit badge make minute 8 mm film title Gunfight eventually attain rank Eagle Scout Spielberg father s movie camera amateur feature begin take camera Scout trip age 13 Spielberg 40 minute war film title escape cast school classmate film win prize statewide competition early teen enter high school Spielberg 8 mm adventure film Phoenix Spielberg watch film local theatre Saturday film cite early influence include King Monsters 1956 captain courageous 1937 Pinocchio 1940 Lawrence Arabia 1962 cite film set journey attend Arcadia High School 1961 year write direct independent film 1963 140 minute science fiction adventure call Firelight later inspire close encounter Kind film mainly fund father budget 600 show local theatre evening summer 1964 work unpaid assistant Universal Studios editorial department family later move Saratoga California attend Saratoga High School graduate 1965 year later parent divorce Spielberg move Los Angeles stay father sister mother remain Saratoga interested academic aspire filmmaker apply University Southern California s film school turn mediocre grade apply enrol California State University Long Beach brother Theta Chi Fraternity 1968 Universal give Spielberg opportunity write direct short film theatrical release 26 minute 35 mm Amblin Studio vice president Sidney Sheinberg impress award win film offer Spielberg seven year direct contract year later drop college begin direct television production Universal young director sign long term plan major Hollywood studio Spielberg return Long Beach 2002 complete Bachelor Arts Film Electronic Media',\n",
              " '  1969 1974 enter film television Spielberg s professional job come hire direct segment 1969 pilot episode Night Gallery write Rod Serling star Joan Crawford Crawford speechless horrify thought young inexperienced newcomer direct Spielberg attempt impress colleague fancy camerawork executive order shoot quickly contribution receive Spielberg take short break studio Crawford say director',\n",
              " '  begin work Steven understand immediately obvious probably young genius think maybe experience important think experienced director didn t Steven s intuitive inspiration keep repeat old routine performance call experience know Steven Spielberg brilliant future ahead Hollywood doesn t recognize talent Steven s go overlook tell note write write Rod Serling grateful approve Steven director tell totally right early 1970 Spielberg unsuccessfully try raise finance low budget film turn write screenplay writer direct television episode include series Marcus Welby M D Game L 2017 Columbo Owen Marshall Counselor Law Psychiatrist unsatisfied work Spielberg opportunity experiment technique learn filmmake director earn good review impressed producer earn steady income relocate Laurel Canyon Los Angeles base strength work Universal sign Spielberg television film Duel 1971 adapt Richard Matheson s short story psychotic tanker truck driver chase terrify salesman Dennis Weaver highway impress film executive decide promote film television review mainly positive Universal ask Spielberg shoot scene Duel release international market film follow soon evil 1972 savage 1973 feature gain mixed review 1974 Spielberg debut theatrical film Sugarland Express married couple run desperate regain custody baby foster parent base true story film mark collaboration composer John Williams director impressed previous soundtrack film open theatre U S positive review Hollywood Reporter write major new director horizon film honor Best screenplay 1974 Cannes Film Festival commercial success Spielberg blame Universal s inconsistent marketing poor box office result',\n",
              " '  1975 1983 film breakthrough Producers Richard D Zanuck David Brown take chance Spielberg give opportunity direct Jaws 1975 horror thriller base Peter Benchley novel film great white shark attack beachgoer summer resort town prompt police chief Martin Brody Roy Scheider hunt help marine biologist Richard Dreyfuss Filming prove challenge Spielberg drown escape crush boat filming schedule overrun day Universal threaten cancel production expectation film critical success Jaws win Academy Awards Best Film Editing Best Original Dramatic Score Best Sound gross 470 million worldwide set domestic box office record lead press describe Jawsmania make Spielberg household watch unconventional center camera technique Jaws Alfred Hitchcock praise young Spielberg think outside visual dynamic theater say s doesn t proscenium arch success Jaws director turn offer sequel Jaws 2 Spielberg Richard Dreyfuss convene work film UFOs close encounter Kind 1977 film Spielberg 65 mm film good picture quality new live action recording system recording duplicate later rare film write direct close Encounters popular film goer Spielberg receive Best Director nomination Academy Awards earn nomination win Best Cinematography Best Sound Effects Editing Special Edition version film feature shorten newly add scene release theatrically 1980 film 1979 s big budget action comedy 1941 Californians prepare japanese invasion attack Pearl Harbor Spielberg self conscious comedy prior experience keen tackle lighthearted genre Universal Columbia agree co finance film release gross 92 4 million worldwide critic include studio head dislike film write Los Angeles Times Charles Champlin describe 1941 conspicuous waste major oil spill somewhat resemble critic write 1941 isn t simply silly slur particular race sex generation make war humanity Spielberg collaborate Star Wars creator George Lucas action adventure Raiders Lost Ark 1981 film Indiana Jones franchise title character play Harrison Ford Lucas previously cast Star Wars film Han Solo Ford Spielberg s choice role film North Africa shoot difficult Spielberg say experience help business acumen film success box office win Academy Awards Spielberg receive second nomination Best Director Best Picture Raiders Lost Ark consider Spielberg Lucas homage serial 1930 1940s Spielberg start co produce film include 1982 s Poltergeist direct segment kick Twilight Zone previous segment Vic Morrow child actor kill stunt helicopter crash Spielberg direct present incident clear wrongdoing National Transportation Safety Board year later Spielberg return science fiction e T Extra terrestrial 1982 story young boy Henry Thomas alien befriend accidentally leave companion attempt return home Spielberg shoot film sequence child spontaneous climax e T premiere 1982 Cannes Film Festival ecstatic reaction producer Kathleen Kennedy recall couldn t hear end movie people foot stomp yell amazing experience special screening organize President Reagan wife Nancy emotional end film e T gross 700 million worldwide spawn range merchandise eventually earn 1 billion film nominate Academy Awards win Best Sound Effects Best Special Effects Best Music directorial feature Raiders Lost Ark prequel Indiana Jones Temple Doom 1984 Working George Lucas Harrison Ford film shoot United States Sri Lanka China film gremlin lead creation PG 13 rating material suitable child 13 Temple Doom rate PG 13 MPAA scene depict child work mine director later say unhappy Temple Doom personal touch love nonetheless film blockbuster hit win Academy Award Best Special Effects project Spielberg meet future wife actress Kate Capshaw play Willie Scott film',\n",
              " '  1984 1990 produce direct 1984 Spielberg Frank Marshall Kathleen Kennedy found production company Amblin Entertainment 1984 1990 Spielberg serve producer executive producer nineteen feature film include Goonies money pit Joe versus volcano battery include Future Cape Fear Framed Roger Rabbit film Harry Hendersons Young Sherlock Holmes title Steven Spielberg Presents show opening credit Spielberg s produce work aim child teen include cartoon tiny Toon Adventures Animaniacs Pinky Brain Freakazoid Family Dog Spielberg produce Don Bluth animation American Tail Land Time beginning 1985 NBC offer Spielberg year contract television series Amazing Stories market blend Twilight Zone Alfred Hitchcock Presents NBC give director complete creative control budget 1 million episode season disappointing rating renew Spielberg s involvement producer vary widely project project director Robert Zemeckis say Spielberg respect filmmaker s vision year Spielberg s record producer bring mixed critical commercial performance 1992 Spielberg begin scale produce say Producing fulfilling aspect ve decade 1994 find success produce successful medical drama er early 1980 Spielberg befriend WarnerMedia CEO Steve Ross eventually result director make film Warner Bros 1985 Spielberg direct Color Purple adaptation Alice Walker s Pulitzer Prize win novel generation empower african american woman depression era America director s film topic express reservation tackle project s risk judge accuse have sensibility character study star Whoopi Goldberg Oprah Winfrey film box office hit critic start Spielberg s foray dramatic genre seriously Roger Ebert rate good film year film receive Academy Award nomination Spielberg win Best Director Director s Guild America China undergo economic reform open american film industry Spielberg manage shoot american film Shanghai 1930 Empire Sun 1987 adaptation J G Ballard s autobiographical novel star John Malkovich young Christian Bale film tell story Jamie Graham Bale young boy go live wealthy british family Shanghai prisoner war japanese internment camp World War II Critical consensus mix time release criticism range overwrought plot Spielberg s downplaying disease starvation critic Andrew Sarris call good film year later include good decade film nominate Academy Awards commercial disappointment box office New York Times think overlook audience Spielberg recall Empire Sun enjoyable film film Spielberg intend direct comedy Rain Man instead direct Indiana Jones film meet contractual obligation Indiana Jones Crusade 1989 Producer George Lucas Harrison Ford return film Spielberg cast Sean Connery support role Henry Jones Sr result mixed reaction 1984 s Temple Doom director tone darkness violence installment Crusade gain respectful review box office success earn 474 million big hit 1982 s e T Biographer Joseph McBride write comeback Spielberg director acknowledge learn make Indiana Jones film 1989 reunite Richard Dreyfuss romantic drama daredevil pilot extinguish forest fire modern remake Spielberg s childhood favorite film 1943 s Guy name Joe story personal say child frustrated maybe see parent Guy name Joe short girlfriend stick Spielberg discuss film Dreyfuss 1975 draft write film commence commercially successful receive mixed review Janet Maslin New York Times write fill big sentimental moment lack intimacy move',\n",
              " '  brief setback director feel artistically stall return 1991 Hook middle aged Peter Pan play Robin Williams return Neverland film Williams co star Dustin Hoffman Julia Roberts clash set personality Spielberg tell 60 Minutes program work Roberts nominate Academy Awards studio enjoy film critic call bloated writing Washington Post Hal Hinson describe film industrially organize think mundane box office earn 300 million worldwide 70 million budget 1993 Spielberg serve executive producer NBC science fiction series seaQuest DSV hit 1993 Spielberg return adventure genre Jurassic Park base 1990 novel Michael Crichton screenplay David Koepp Jurassic Park set fictional island near Costa Rica team genetic scientist create wildlife park de extinct dinosaur departure usual order plan Spielberg designer storyboarde certain sequence novel early film computer generate imagery provide Industrial Light Magic Jurassic Park complete time high gross film time win Academy Awards film s dominance theatrical run Spielberg s 250 million salary cause director self conscious success 1993 Spielberg direct Schindler s List Oskar Schindler man risk life save 1 100 Jews Holocaust base Schindler s Ark australian novelist Thomas Keneally Spielberg wait year film feel mature want embrace heritage birth son Max say greatly affect spirit begin ignite jewish dad film commence March 1 1993 Poland Spielberg edit Jurassic Park evening filming bearable director bring wife child Schindler s List praise critic reviewer include filmmaker Claude Lanzmann criticize film weak representation Holocaust Imre Kert sz hungarian author concentration camp survivor call Schindler s List kitsch say regard kitsch representation Holocaust incapable understanding unwilling understand organic connection deformed mode life possibility Holocaust expectation film commercial success Spielberg percentage profit start Shoah Foundation non profit organization archive testimony Holocaust survivor Schindler s List win seven Academy Awards include Best Picture Spielberg s Best Director win seven bafta golden Globes accord American Film Institute Schindler s List 100 good american film 1994 Spielberg take break direct spend time family setup new film studio DreamWorks Jeffrey Katzenberg David Geffen Spielberg cite creative control distribution improvement main reason found studio partner compare founder United Artists 1919 DreamWorks investor include Microsoft founder Paul Allen Bill Gates found DreamWorks Spielberg continue operate Amblin Entertainment direct film studio film director help design Jurassic Park themed attraction Universal Orlando Florida workload filmmaking operate studio raise question commitment Spielberg maintain fitting nicely life m home m home weekend hiatus return direct sequel Jurassic Park Lost World Jurassic Park 1997 loose adaptation Michael Crichton s novel Lost World plot follow mathematician Ian Malcolm Jeff Goldblum researcher study dinosaur Jurassic Park island confront team different agenda time Spielberg want onscreen creature realistic film 3d storyboard computer imagery robotic puppet budget 73 million Lost World Jurassic Park open 1997 high gross film year Village Voice critic opine Lost World well craft fun film Guardian write look like director autopilot special effect brook argument 1997 feature Amistad release DreamWorks base true story event 1839 aboard slave ship La Amistad Producer Debbie Allen read book Amistad 1978 think Spielberg perfect direct Spielberg hesitant take project afraid compare Schindler s List say ve plan career end think got to Starring Morgan Freeman Anthony Hopkins Djimon Hounsou Matthew McConaughey director Allen s year worth research reenact difficult historical scene film struggle find audience underperform box office Spielberg admit Amistad history lesson director s 1998 release World War II epic save Private Ryan group U S soldier lead Captain Miller Tom Hanks send bring home paratrooper old brother kill hour Normandy landing filming take place England U S Marine Dale Dye hire train actor character combat scene halfway film Spielberg remind cast make tribute thank grandparent dad fight war release critic praise direction realistic portrayal war film gross successful 481 million worldwide Spielberg win second Academy Award Best Director August 1999 Spielberg Hanks award Distinguished Public Service Medal Secretary Defense William S Cohen',\n",
              " '  1999 2007 directorial work 2001 Spielberg Tom Hanks produce Band Brothers miniserie base Stephen Ambrose s book HBO series follow Easy Company 101st Airborne Division s 506th Parachute Infantry Regiment series win Golden Globe Best Miniseries year Spielberg return film Artificial Intelligence loose adaptation 1969 short story supertoy Summer long Brian Aldiss Filmmaker Stanley Kubrick ask Spielberg direct feature 1979 Spielberg try style Kubrick mixed result accord reviewer plot revolve android call David Haley Joel Osment want real boy critic think Spielberg direct sentimentality Roger Ebert write ambitious film recent year miscalculate ask invest emotion character machine film win Saturn Awards gross 236 million worldwide Spielberg Tom Cruise collaborate futuristic neo noir Minority Report 2002 base short story Philip K Dick group investigator try prevent crime commit film receive critical acclaim Roger Ebert name Minority Report good film 2002 praise vision future critic Todd McCarthy think action film earn 358 million worldwide director s 2002 feature catch adventure young con artist play Leonardo DiCaprio Christopher Walken Tom Hanks star set 1960 Spielberg say love movie sensational rogue break law love moxie 75th Academy Awards Walken John Williams nominate Best Supporting Actor Best Original Score respectively film critical commercial success director work Tom Hanks Catherine Zeta Jones Stanley Tucci 2004 s Terminal lighthearted comedy eastern european man strand airport Terminal praise production design film receive mixed review commercial success 2005 Spielberg direct modern adaptation War Worlds co production Paramount DreamWorks base H G Wells book Spielberg fan book 1953 film star Tom Cruise Dakota Fanning film follow american dock worker force look child live separately struggle protect reunite mother extraterrestrial invade Earth director storyboard help actor react computer imagery natural lighting camerawork avoid stylized science fiction picture release film box office hit gross 600 million worldwide Spielberg s Munich 2005 israeli athlete kidnap murder 1972 Munich massacre film base Vengeance book canadian journalist George Jonas previously adapt screen 1986 television film Sword Gideon Spielberg personally remember incident seek advice President Bill Clinton make film want cause problem Middle East film garner positive review critic perceive anti Semitic Spielberg s controversial film date Munich receive Academy Awards nomination Best Picture Best Film Editing Best Score Best adapt Screenplay Best Director Spielberg sixth Best Director nomination fifth Best Picture nomination mid 2000 Spielberg scale direct career selective film project undertake December 2005 Spielberg partner sell DreamWorks medium conglomerate Viacom know viacomcbs sale finalize February 2006 June 2006 Spielberg plan interstellar abandon project eventually direct Christopher Nolan time Spielberg remain active producer produce 2005 s memoir Geisha adaptation novel Arthur Golden Spielberg Robert Zemeckis co produce Monster House 2006 mark eighth collaboration work Clint Eastwood time co produce 2006 s flag Fathers Letters Iwo Jima Robert Lorenz Spielberg serve executive producer 2007 s Disturbia Transformers film series year Spielberg Mark Burnett co produce Lot reality competition filmmake',\n",
              " '  2008 2015 Return film Spielberg return Indiana Jones series 2008 fourth installment title Indiana Jones Kingdom Crystal Skull release nineteen year Crusade film set 1957 pit Indiana Jones Harrison Ford soviet agent lead Irina Spalko Cate Blanchett search telepathic crystal skull principal photography complete October 2007 film release 22 2008 film release DreamWorks 1997 film receive generally favorable review critic fan disappoint introduction alien life uncharacteristic previous film write Age Tom Ryan praise Spielberg George Lucas realistic 1950 set energy display impressive box office success gross 790 million worldwide early 2009 Spielberg shoot film plan trilogy motion capture film base Adventures Tintin write belgian artist Herg Adventures Tintin Secret Unicorn co produce Peter Jackson release 2011 entirely computer animate premiere October 22 Brussels Belgium film release north american theater December 21 Digital 3D IMAX receive generally positive review critic gross 373 million worldwide Adventures Tintin win Best animated Feature 69th Golden Globe Awards non Pixar film win award category introduce Spielberg follow War Horse shoot England summer 2010 release day Adventures Tintin December 25 2011 film base novel Michael Morpurgo publish 1982 follow long friendship british boy horse Joey World War distribute Walt Disney Studios DreamWorks distribution deal 2009 War Horse consecutive Spielberg film release Disney War Horse acclaimed response critic nominate Academy Awards include Best Picture review Salon magazine Andrew O Hehir write point career Spielberg pursue personal goal s terrific overly flat tooth rottingly sweet War Horse reflect Spielberg return World War II theme co produce 2010 miniserie Pacific Tom Hanks Gary Goetzman miniserie center battle Pacific Theater follow year Spielberg co create Falling Skies science fiction series TNT network Robert Rodat Spielberg produce 2011 Fox series Terra Nova Terra Nova begin year 2149 life planet Earth threaten extinction result scientist open door allow people travel 85 million year prehistoric time year produce J J Abrams thriller Super 8 Spielberg direct historical drama Lincoln 2012 star Daniel Day Lewis President Abraham Lincoln Sally Field Mary Todd Lincoln base Doris Kearns Goodwin s book Team Rivals political genius Abraham Lincoln film describe final month Lincoln s life write Tony Kushner film shoot Richmond Virginia late 2011 release U S November 2012 Lincoln acclaim earn 250 million worldwide nominate Academy Awards include Best Picture Best Director win Best Production Design Day Lewis win Best Actor portrayal Lincoln critic Irish Times compliment direction odd Spielberg make genuinely exciting backstage wheedle announce 2 2013 Spielberg direct American Sniper leave project production begin instead direct 2015 s Bridge Spies Cold War thriller base 1960 U 2 incident focus James B Donovan s negotiation Soviets release pilot Gary Powers aircraft shoot soviet territory screenplay Coen brother film star Tom Hanks Donovan Mark Rylance Amy Ryan Alan Alda film fall 2014 New York City Berlin Wroclaw release October 16 Bridge Spies popular critic nominate Academy Awards include Best Picture Rylance win Best support Actor second actor win performance direct Spielberg',\n",
              " '  2016 present 2016 Spielberg BFG adaptation Roald Dahl s child s book star newcomer Ruby Barnhill Rylance titular Big Friendly Giant DreamWorks buy right 2010 John Madden intend direct film write e T screenwriter Melissa Mathison death co produce release Walt Disney Pictures mark Disney brand film direct Spielberg BFG premiere competition entry 2016 Cannes Film Festival receive wide release U S July 1 2016 BFG welcome fair review Michael Phillips Chicago Tribune compare certain scene work early filmmaker Toronto Sun s Liz Braun think moment wonder delight nearly year later Spielberg direct Post account Washington Post s printing Pentagon Papers Starring Tom Hanks Meryl Streep production begin New York 30 2017 Spielberg state attraction project read draft script wasn t wait year year story feel need tell today film receive wide release January 12 2018 Post gain positive reception critic Associated Press think Spielberg infuse scene tension life grandeur ordinary s good convey 2017 Spielberg filmmaker feature Netflix documentary series come discuss contribution director Frank Capra John Ford John Huston George Stevens William Wyler war relate work Spielberg serve executive producer Spielberg direct 2018 s science fiction Ready Player adapt novel Ernest Cline star Tye Sheridan Olivia Cooke Ben Mendelsohn Lena Waithe T J Miller Simon Pegg Mark Rylance plot take place 2045 humanity use virtual reality escape real world Ready Player begin production July 2016 release Warner Bros December 15 2017 move March 2018 avoid competition Star Wars Jedi premiere 2018 South southwest film festival critic enjoy action scene think film long overuse 1980s nostalgia 2019 Spielberg film West Story new adaptation musical writer Tony Kushner state July 2017 adapt s book Spielberg score remain unchanged late 1950 set film set December 2020 release postpone December 2021 COVID 19 pandemic Spielberg plan direct fifth installment Indiana Jones series film set star Harrison Ford produce Kathleen Kennedy Frank Marshall 2016 announce write David Koepp release Disney July 19 2019 change filming release date postpone Jonathan Kasdan announce film s new writer soon new release date July 9 2021 announce 2019 Dan Fogelman hire write new script Kasdan s story focus nazi gold train February 2020 report Spielberg leave role director replace James Mangold Spielberg express remain hand producer film April 2020 announce release film delay July 29 2022 COVID 19 pandemic continue cause theater remain close film begin production UK June 2021 Spielberg currently direct Fabelmans fictionalized account childhood write Tony Kushner Gabriel LaBelle play character inspire Spielberg Michelle Williams play character s mother Paul Dano play father Seth Rogen play favorite uncle filming begin Los Angeles July 2021 June 21 2021 announce Spielberg s Amblin Entertainment sign deal Netflix release multiple new feature film streaming service deal Amblin expect produce film year Netflix unspecified number year possible Spielberg direct project',\n",
              " '  prospective project 2009 Spielberg buy right life story Martin Luther King Jr intention involve producer director purchase King estate lead son Dexter survive child Reverend Bernice Martin III immediately threaten sue having give approval project 2015 Spielberg attach direct adaptation american photojournalist Lynsey Addario s memoir s Jennifer Lawrence lead role April 2018 announce Spielberg direct film adaptation Blackhawk comic book series Warner Bros distribute film David Koepp write script January 2013 HBO confirm develop World War II miniserie base book Masters Air Donald L Miller Spielberg Tom Hanks NME report March 2017 production progress working title Mighty Eighth March 2013 Spielberg announce develop miniserie base life Napoleon 2016 announce Cary Fukunaga talk direct miniserie HBO script David Leland base extensive research material accumulate Stanley Kubrick year Spielberg set executive produce Cortes historical miniserie write Steven Zaillian spanish conquest aztec empire Hern n Cort s s relationship aztec ruler Montezuma script base early 1965 Oscar winner Dalton Trumbo Javier Bardem play lead role explorer Hern n Cort s Spielberg previously attach direct project feature film Spielberg plan shoot 200 million adaptation Daniel H Wilson s novel Robopocalypse adapt screen Drew Goddard like Lincoln release Disney U S Fox overseas Spielberg postpone production indefinitely January 2013 March 2018 announce film direct Michael Bay Spielberg set film adaptation David Kertzer s kidnapping Edgardo Mortara early 2017 release end year production postpone announce 2014 Tony Kushner adapt book screen Mark Rylance fourth collaboration Spielberg announce star role Pope Pius IX Spielberg see 2 000 kid play role Edgardo Mortara',\n",
              " '  venture director avid gamer 1974 2005 Spielberg collaborate Electronic Arts EA game include Wii call Boom Blox sequel Boom Blox Bash Party creator EA s Medal Honor series 1996 Spielberg help create design LucasArts adventure game dig collaborate software publisher Knowledge Adventure game Steven Spielberg s Director s Chair release 1996 Spielberg appear game direct player Spielberg play LucasArts adventure game include Monkey Island game own Wii PlayStation 3 PSP Xbox 360 enjoy play person shooter Medal Honor series Duty 4 Modern Warfare dislike use cutscene game think natural storytelling challenge game developer',\n",
              " '  Influences Spielberg cite Frank Capra s s Wonderful Life 1946 influence family community suburbia enjoy work Alfred Hitchcock David Lean John Ford Stanley Kubrick John Frankenheimer college inspire foreign film direct Ingmar Bergman Jacques Tati Fran ois Truffaut Truffaut favorite director Spencer Tracy influence character Spielberg s film Twilight Zone series',\n",
              " '  Method theme Spielberg use storyboard visualize sequence exception e T Color Purple experience film jaw director learn leave special effect scene exclude medium film location Spielberg prefer shoot quickly large amount coverage single shot multi shot setup option editing room beginning career Spielberg s shooting style consist extreme high low camera angle long take handheld camera director favor use wide angle lens create depth time make Minority Report Spielberg confident elaborate camera movement interview Tech 2015 Spielberg describe choose film project work story speak doesn t speak collaborator partner look scratch head Gee sure wanna trench year half love people challenge way s real test conviction stand man life stand subject popular proud add body work s pretty litmus test get yeah ll direct Spielberg s film contain similar theme work pertinent theme revolve ordinary people extraordinary circumstance ordinary people limitation succeed hero consistent theme family friendly work childlike sense wonder faith goodness humanity prevail explore importance childhood loss innocence need parental figure explore parent child relationship usually flawed irresponsible father figure theme personally resonate director s childhood explore extraterrestrial life aspect work Spielberg describe like alien childhood interest come father science fiction fan',\n",
              " '  collaborator Janusz Kami ski serve cinematographer 19 Spielberg s film Spielberg s career evolve action drama film Kami ski adopt handheld camerawork evidence Schindler s List Amistad Michael Kahn edit Spielberg s film 1970 director work consistently production designer Rick Carter writer David Koepp Producer Kathleen Kennedy director s long serve collaborator Spielberg display loyalty actor cast repeatedly include Harrison Ford Mark Rylance Richard Dreyfuss Tom Cruise Jeff Goldblum Tom Hanks',\n",
              " '  John Williams Sugarland Express begin Spielberg s long time partnership composer John Williams return compose Spielberg s feature film exception Twilight Zone Movie Color Purple Bridge Spies Ready Player West Story Williams win Academy Awards work Spielberg s film jaw e t Extra Terrestrial Schindler s List make Schindler s List director approach Williams compose score see rough unedited cut Williams impressed say compose challenge say Spielberg need well composer film Spielberg respond know dead 2016 Spielberg present Williams 44th AFI Life Achievement Award award composer',\n",
              " '  personal life Spielberg meet actress Amy Irving 1976 audition close encounter Kind meet Spielberg tell co producer Julia Phillips meet real heartbreaker night young role Spielberg begin date eventually move describe bachelor funky house break 1979 1984 renew romance marry November 1985 son Max bear June 13 year 1989 couple divorce agree live near share custody son divorce settlement expensive history Spielberg diagnose dyslexia age 60 Spielberg meet actress Kate Capshaw cast Indiana Jones Temple Doom marry October 12 1991 Capshaw convert Judaism marriage Spielberg say rediscover honor Jew marry say Kate protestant insist convert Judaism spend year study mikveh thing choose conversion marry 1991 marry Jew think bring Judaism credit family s level observance shiksa goddess well Jew parent say family live Pacific Palisades California East Hampton New York seven child Jessica Capshaw bear August 9 1976 Max Samuel Spielberg bear June 13 1985 Sasha Rebecca Spielberg bear 14 1990 Sawyer Avery Spielberg bear March 10 1992 Destry Allyn Spielberg bear December 1 1996 adopt child Theo Spielberg bear August 21 1988 Mikaela George bear February 28 1996 1997 man name Jonathan Norman stalk attempt enter Spielberg s home Norman jail 25 year 2001 Spielberg stalk conspiracy theorist social worker Diana Napolis accuse actress Jennifer Love Hewitt instal mind control device brain satanic cult Napolis commit mental institution plead guilty stalk release probation condition contact Spielberg Hewitt 2013 Spielberg purchase 282 foot 86 m mega yacht Seven Seas 182 million sale available charter 1 2 million month expensive charter market order new 300 foot 91 m yacht report 250 million',\n",
              " '  political view Spielberg usually support U S Democratic Party candidate donate 800 000 democratic party nominee close friend President Bill Clinton work President USA Millennium celebration direct 18 minute film project score John Williams entitle American Journey show America s Millennium Gala December 31 1999 National Mall reflect Pool base Lincoln Memorial Washington D C Spielberg endorse Hillary Clinton 2016 presidential election donate 1 million Priorities USA Action Spielberg resign member national advisory board Boy Scouts America 2001 disagree organization s anti homosexuality stance 2007 Arab League vote boycott Spielberg s movie donate 1 million relief effort Israel 2006 Lebanon War February 20 2007 Spielberg Jeffrey Katzenberg David Geffen invite Democrats fundraiser Barack Obama February 2008 Spielberg resign advisor 2008 Summer Olympics response chinese government s inaction War Darfur Spielberg say statement find conscience allow continue business usual Sudan s government bear bulk responsibility go crime international community particularly China International Olympic Committee IOC respect Spielberg s decision IOC president Jacques Rogge express disappointment Spielberg certainly bring lot opening ceremony term creativity chinese state medium call director s comment unfair September 2008 Spielberg wife offer support sex marriage California issue statement follow donation 100 000 Proposition 8 campaign fund figure equal money Brad Pitt donate campaign week prior 2018 Spielberg wife donate 500 000 March Lives student demonstration favor gun control United States',\n",
              " '  Legacy notable figure New Hollywood era Spielberg commercially successful film director history 1996 Life magazine name Spielberg influential person generation 2003 Premiere magazine rank place list 100 powerful People Movies 2005 Empire magazine rank number list great film director time 2013 Time magazine list 100 important People Century accord Forbes magazine influential Celebrities 2014 Spielberg rank place 2020 Forbes estimate net worth 3 7 billion work admire director include Robert Aldrich Ingmar Bergman Werner Herzog Stanley Kubrick David Lean Sidney Lumet Roman Polanski Martin Scorsese Fran ois Truffaut David Lynch Spielberg s film influence director J J Abrams Paul Thomas Anderson Neill Blomkamp Guillermo del Toro Roland Emmerich Peter Jackson Kal Ng Robert Rodriguez John Sayles Ridley Scott John Singleton Kevin Smith Gareth Edwards Film critic Tom Shone say Spielberg point director year work medium film fully find well leave device guy Jess Cagle editor Entertainment Weekly call Spielberg arguably argue great filmmaker history Stephen Rowley write Senses Cinema discuss Spielberg s strength filmmaker say welcome complexity tone approach later film defy lazy stereotype bandy film Spielberg continue risk body work continue grow impressive ambitious concluding receive limited begrudging recognition critic 1999 Millennium Movies survey british film fan run Sky Premier channel Spielberg seven film 100 popular director Spielberg s critic argue film overly sentimental tritely moralistic Easy rider Raging Bulls Peter Biskind write director infantilize audience reconstitute spectator child overwhelm sound spectacle obliterate irony aesthetic self consciousness critical reflection Critic Ray Carney actor Crispin Glover claim Spielberg s film lack depth risk Critic Pauline Kael enjoy Spielberg s film 1970 express disappointment later work state s think bad director m little ashamed love early work h e turn virtuous movie s uninteresting think fluid far director instead s melodramatist Filmmaker Jean Luc Godard opine Spielberg partly responsible lack artistic merit mainstream cinema accuse Spielberg Schindler s List profit tragedy defense Spielberg critic Roger Ebert say Godard director living dead Spielberg Holocaust Project honor preserve memory survivor Seven film induct National Film Registry Library Congress culturally historically aesthetically significant Jaws close encounter Kind Raiders Lost Ark e T Jurassic Park Schindler s List Saving Private Ryan',\n",
              " '  Spielberg win Academy Awards receive seven nomination Best Director win twice Schindler s List Saving Private Ryan Best Picture Schindler s List 1987 award Irving G Thalberg Memorial Award work creative producer drawing experience Scouting Spielberg help Boy Scouts America develop merit badge cinematography promote filmmaking marketable skill badge launch 1989 National Scout Jamboree 1989 Spielberg present Distinguished Eagle Scout Award Spielberg receive AFI Life Achievement Award 1995 1998 award order Merit Federal Republic Germany award present President Roman Herzog recognition Schindler s List work Shoa Foundation Spielberg award Medal Distinguished Public Service 1999 recognition save Private Ryan film receive award outstanding Directorial Achievement Motion Pictures Directors Guild America year receive Lifetime Achievement Award Directors Guild America Spielberg give star Hollywood Walk Fame 2003 locate 6801 Hollywood Boulevard July 15 2006 Spielberg award Gold Hugo Lifetime Achievement Award Summer Gala Chicago International Film Festival award Kennedy Center honor December 3 tribute Spielberg feature biographical short film narrate Liam Neeson performance finale Leonard Bernstein s Candide conduct John Williams Science Fiction Hall Fame induct Spielberg 2005 year consider non literary contributor recipient Visual Effects Society Lifetime Achievement Award February 2008 award significant lasting contribution art science visual effect industry 2009 Spielberg award Cecil B DeMille Award Hollywood Foreign Press Association outstanding contribution world entertainment 2001 appoint honorary Knight Commander Order British Empire KBE Queen Elizabeth II service british film industry 2004 award France s high civil honor l gion d Honneur President Jacques Chirac June 2008 Spielberg receive Arizona State University s Hugh Downs Award Communication Excellence October 2009 Spielberg receive Philadelphia Liberty Medal prize present U S President Bill Clinton October 2011 Commander Order belgian Crown Belgium s high honor November 19 2013 Spielberg honor National Archives Records Administration Records Achievement Award Spielberg give facsimile 13th Amendment pass 1861 ratify second sign Abraham Lincoln 1865 abolish slavery amendment process pass subject film Lincoln November 24 2015 Spielberg award Presidential Medal Freedom President Barack Obama ceremony White House July 2016 Spielberg award gold Blue Peter badge BBC child s television programme Blue Peter Spielberg honorary degree University Southern California 1994 Brown University 1999 Yale University 2002 Boston University 2009 Harvard University 2016 Awards receive Spielberg s film',\n",
              " '  Prolific film 1960 Spielberg direct 33 feature film co produce work Directed feature',\n",
              " '  act cameos Spielberg numerous cameo role include Blues Brothers Gremlins Vanilla Sky Double Dare Austin Powers Goldmember Spielberg voice 2011 film Paul episode Tiny Toon Adventures title Buster Babs Hawaiian',\n",
              " '  director film rate CinemaScore Steven Spielberg s unrealized project',\n",
              " '  Bibliography Jackson Kathi 2007 Steven Spielberg Biography Westport CT Greenwood Press ISBN 9780313337963 Hook Sue Vander 2010 Steven Spielberg Groundbreaking Director Edina MN Abdo Publishing Company ISBN 9781604537048 Mara Wil 2014 Great Filmmakers Steven Spielberg New York Cavendish Square Publishing ISBN 9781627129367 McBride Joseph 1997 Steven Spielberg Biography New York Simon Schuster ISBN 9780684811673 Freer Ian 2001 Complete Spielberg London Virgin Publishing ISBN 9780753505564 Parish James Robert 2004 Steven Spielberg Filmmaker New York Ferguson ISBN 9780816054817 Horn Geoffrey M 2002 Steven Spielberg Milwaukee World Almanac Library ISBN 9780836850802 Edge Laura Bufano 2008 Steven Spielberg Director blockbuster film Berkeley Heights NJ Enslow Publishers ISBN 9780766028883 Baxter John 1996 Steven Spielberg Unauthorised Biography London Harper Collins ISBN 9780002555876 Pogrebin Abigail 2005 Stars David Prominent Jews talk jewish New York Broadway Books ISBN 9780307419323 Mairata James 2018 Steven Spielberg s Style Stealth Cham Switzerland Springer International Publishing ISBN 9783319690810 Buckland Warren 2006 direct Steven Spielberg Poetics Contemporary Hollywood Blockbuster New York Continuum ISBN 9780826416919',\n",
              " '  Steven Spielberg IMDb Steven Spielberg TCM Movie Database Steven Spielberg AllMovie Steven Spielberg Curlie Steven Spielberg collect news commentary New York Times Steven Spielberg biography Science Fiction Fantasy Hall Fame talk Steven Spielberg Interviews oral history television']"
            ]
          },
          "metadata": {},
          "execution_count": 272
        }
      ]
    },
    {
      "cell_type": "code",
      "metadata": {
        "id": "iEKQTIGh5jz9"
      },
      "source": [
        "#add doc1 to nlp1 object\n",
        "doc_1 = nlp1(question)\n",
        "\n",
        "for x in corpus:\n",
        "  doc_2 = nlp1(lemma_process(x))\n",
        "  \n",
        "  #compute sentence semantic similarity between quesiton and contexts using Universal Sentence Encoder\n",
        "  similarity_rate=doc_1.similarity(doc_2)\n",
        "  values=[x,similarity_rate, ]\n",
        "  zipped = zip(Context_Similarity_columns, values)\n",
        "  append_dictionary = dict(zipped)\n",
        "  #append values to dataframe\n",
        "  Context_Similarity = Context_Similarity.append(append_dictionary, ignore_index=True)\n",
        "\n",
        "Context_Similarity.sort_values(by=['Similarity'], ascending=False, inplace=True)\n",
        "\n",
        "#filter context if it is of very less length, since it wont be of no use for our model to get context out of it.\n",
        "length_of_question = len(question)\n",
        "Context_Similarity = Context_Similarity[Context_Similarity['Context'].apply(len) > 2*length_of_question]\n",
        "\n",
        "#retreive only top10 context from the dataframe\n",
        "top10=Context_Similarity.iloc[:10,:]"
      ],
      "execution_count": 273,
      "outputs": []
    },
    {
      "cell_type": "code",
      "metadata": {
        "id": "S2PtpqqETjZq"
      },
      "source": [
        "#merge to retrive wiki page info\n",
        "top_10 = top10.merge(removed_sp_char_Df,left_index=True, right_index=True)"
      ],
      "execution_count": 274,
      "outputs": []
    },
    {
      "cell_type": "code",
      "metadata": {
        "colab": {
          "base_uri": "https://localhost:8080/",
          "height": 351
        },
        "id": "ec4YtX-NaLq2",
        "outputId": "7918ea92-839f-4f8a-e323-313a17e5e467"
      },
      "source": [
        "top_10.drop(columns=['Wikipedia_Setences'],inplace=True)\n",
        "top_10.reset_index(inplace=True)\n",
        "top_10.drop(columns=['index'],inplace=True)\n",
        "top_10"
      ],
      "execution_count": 275,
      "outputs": [
        {
          "output_type": "execute_result",
          "data": {
            "text/html": [
              "<div>\n",
              "<style scoped>\n",
              "    .dataframe tbody tr th:only-of-type {\n",
              "        vertical-align: middle;\n",
              "    }\n",
              "\n",
              "    .dataframe tbody tr th {\n",
              "        vertical-align: top;\n",
              "    }\n",
              "\n",
              "    .dataframe thead th {\n",
              "        text-align: right;\n",
              "    }\n",
              "</style>\n",
              "<table border=\"1\" class=\"dataframe\">\n",
              "  <thead>\n",
              "    <tr style=\"text-align: right;\">\n",
              "      <th></th>\n",
              "      <th>Context</th>\n",
              "      <th>Similarity</th>\n",
              "      <th>Wiki_Page</th>\n",
              "    </tr>\n",
              "  </thead>\n",
              "  <tbody>\n",
              "    <tr>\n",
              "      <th>0</th>\n",
              "      <td>Steven Spielberg at IMDb Steven Spielberg at ...</td>\n",
              "      <td>0.670487</td>\n",
              "      <td>&lt;WikipediaPage 'Steven Spielberg'&gt;</td>\n",
              "    </tr>\n",
              "    <tr>\n",
              "      <th>1</th>\n",
              "      <td>See also Directors with two films rated A by ...</td>\n",
              "      <td>0.652816</td>\n",
              "      <td>&lt;WikipediaPage 'Steven Spielberg'&gt;</td>\n",
              "    </tr>\n",
              "    <tr>\n",
              "      <th>2</th>\n",
              "      <td>Steven Allan Spielberg born December 18 1946 i...</td>\n",
              "      <td>0.632401</td>\n",
              "      <td>&lt;WikipediaPage 'Steven Spielberg'&gt;</td>\n",
              "    </tr>\n",
              "    <tr>\n",
              "      <th>3</th>\n",
              "      <td>Collaborators Janusz Kami ski has served as a...</td>\n",
              "      <td>0.541659</td>\n",
              "      <td>&lt;WikipediaPage 'Steven Spielberg'&gt;</td>\n",
              "    </tr>\n",
              "    <tr>\n",
              "      <th>4</th>\n",
              "      <td>Influences Spielberg has cited Frank Capra s ...</td>\n",
              "      <td>0.524965</td>\n",
              "      <td>&lt;WikipediaPage 'Steven Spielberg'&gt;</td>\n",
              "    </tr>\n",
              "    <tr>\n",
              "      <th>5</th>\n",
              "      <td>Legacy A notable figure of the New Hollywood ...</td>\n",
              "      <td>0.516514</td>\n",
              "      <td>&lt;WikipediaPage 'Steven Spielberg'&gt;</td>\n",
              "    </tr>\n",
              "    <tr>\n",
              "      <th>6</th>\n",
              "      <td>Method and themes Spielberg often uses storyb...</td>\n",
              "      <td>0.514598</td>\n",
              "      <td>&lt;WikipediaPage 'Steven Spielberg'&gt;</td>\n",
              "    </tr>\n",
              "    <tr>\n",
              "      <th>7</th>\n",
              "      <td>Spielberg has won three Academy Awards He rec...</td>\n",
              "      <td>0.507421</td>\n",
              "      <td>&lt;WikipediaPage 'Steven Spielberg'&gt;</td>\n",
              "    </tr>\n",
              "    <tr>\n",
              "      <th>8</th>\n",
              "      <td>Prolific in film since the 1960s Spielberg ha...</td>\n",
              "      <td>0.502446</td>\n",
              "      <td>&lt;WikipediaPage 'Steven Spielberg'&gt;</td>\n",
              "    </tr>\n",
              "    <tr>\n",
              "      <th>9</th>\n",
              "      <td>Political views Spielberg has usually support...</td>\n",
              "      <td>0.487830</td>\n",
              "      <td>&lt;WikipediaPage 'Steven Spielberg'&gt;</td>\n",
              "    </tr>\n",
              "  </tbody>\n",
              "</table>\n",
              "</div>"
            ],
            "text/plain": [
              "                                             Context  ...                           Wiki_Page\n",
              "0   Steven Spielberg at IMDb Steven Spielberg at ...  ...  <WikipediaPage 'Steven Spielberg'>\n",
              "1   See also Directors with two films rated A by ...  ...  <WikipediaPage 'Steven Spielberg'>\n",
              "2  Steven Allan Spielberg born December 18 1946 i...  ...  <WikipediaPage 'Steven Spielberg'>\n",
              "3   Collaborators Janusz Kami ski has served as a...  ...  <WikipediaPage 'Steven Spielberg'>\n",
              "4   Influences Spielberg has cited Frank Capra s ...  ...  <WikipediaPage 'Steven Spielberg'>\n",
              "5   Legacy A notable figure of the New Hollywood ...  ...  <WikipediaPage 'Steven Spielberg'>\n",
              "6   Method and themes Spielberg often uses storyb...  ...  <WikipediaPage 'Steven Spielberg'>\n",
              "7   Spielberg has won three Academy Awards He rec...  ...  <WikipediaPage 'Steven Spielberg'>\n",
              "8   Prolific in film since the 1960s Spielberg ha...  ...  <WikipediaPage 'Steven Spielberg'>\n",
              "9   Political views Spielberg has usually support...  ...  <WikipediaPage 'Steven Spielberg'>\n",
              "\n",
              "[10 rows x 3 columns]"
            ]
          },
          "metadata": {},
          "execution_count": 275
        }
      ]
    },
    {
      "cell_type": "code",
      "metadata": {
        "id": "BsFFKRHIx0Yb"
      },
      "source": [
        "#wriite to csv\n",
        "top_10.to_csv(\"TOP_10_Similarities.csv\")"
      ],
      "execution_count": 276,
      "outputs": []
    },
    {
      "cell_type": "markdown",
      "metadata": {
        "id": "NFXIw9kfjM0f"
      },
      "source": [
        "##### **TRYING DIFFERENT ML MODEL FROM TRANSFORMERS LIBRARY**"
      ]
    },
    {
      "cell_type": "markdown",
      "metadata": {
        "id": "9AM85L1doY07"
      },
      "source": [
        "###### **ROBERTA**"
      ]
    },
    {
      "cell_type": "code",
      "metadata": {
        "id": "hAP9aEJlfpQR",
        "colab": {
          "base_uri": "https://localhost:8080/"
        },
        "outputId": "31385fd6-385e-443f-b88f-e9b13f654d0d"
      },
      "source": [
        "#trying different exisiting pre trained models in hugging face\n",
        "roberta_findings=[]\n",
        "#Model 1\n",
        "qa_pipeline = pipeline(\"question-answering\",model=\"deepset/roberta-base-squad2\",tokenizer=\"deepset/roberta-base-squad2\", revision=\"v1.0\")\n",
        "\n",
        "#looping through all context\n",
        "for x,context in enumerate(top_10['Context']):\n",
        "  prediction = qa_pipeline({'context': context,'question': question})\n",
        "  roberta_findings.append([prediction['answer'],prediction['score'],top_10.iloc[x,2],context])"
      ],
      "execution_count": 277,
      "outputs": [
        {
          "output_type": "stream",
          "name": "stderr",
          "text": [
            "/usr/local/lib/python3.7/dist-packages/numpy/core/_asarray.py:83: VisibleDeprecationWarning: Creating an ndarray from ragged nested sequences (which is a list-or-tuple of lists-or-tuples-or ndarrays with different lengths or shapes) is deprecated. If you meant to do this, you must specify 'dtype=object' when creating the ndarray\n",
            "  return array(a, dtype, copy=False, order=order)\n"
          ]
        }
      ]
    },
    {
      "cell_type": "code",
      "metadata": {
        "id": "sucMG8J_gqas"
      },
      "source": [
        "##extract only the top 3 results from the model\n",
        "from operator import itemgetter\n",
        "roberta_final_results = sorted(roberta_findings, key=itemgetter(1), reverse=True)[:3]"
      ],
      "execution_count": 278,
      "outputs": []
    },
    {
      "cell_type": "code",
      "metadata": {
        "colab": {
          "base_uri": "https://localhost:8080/",
          "height": 138
        },
        "id": "GN21STD1ka3f",
        "outputId": "07e23417-6d4f-48d2-a243-a3330752d3d5"
      },
      "source": [
        "#convert to dataframe and save to csv as top3_predictions\n",
        "Roberta_Final_predictions=pd.DataFrame(roberta_final_results,columns=['Prediction','Score','Wiki_Page','Context'])\n",
        "Roberta_Final_predictions"
      ],
      "execution_count": 279,
      "outputs": [
        {
          "output_type": "execute_result",
          "data": {
            "text/html": [
              "<div>\n",
              "<style scoped>\n",
              "    .dataframe tbody tr th:only-of-type {\n",
              "        vertical-align: middle;\n",
              "    }\n",
              "\n",
              "    .dataframe tbody tr th {\n",
              "        vertical-align: top;\n",
              "    }\n",
              "\n",
              "    .dataframe thead th {\n",
              "        text-align: right;\n",
              "    }\n",
              "</style>\n",
              "<table border=\"1\" class=\"dataframe\">\n",
              "  <thead>\n",
              "    <tr style=\"text-align: right;\">\n",
              "      <th></th>\n",
              "      <th>Prediction</th>\n",
              "      <th>Score</th>\n",
              "      <th>Wiki_Page</th>\n",
              "      <th>Context</th>\n",
              "    </tr>\n",
              "  </thead>\n",
              "  <tbody>\n",
              "    <tr>\n",
              "      <th>0</th>\n",
              "      <td>the greatest filmmaker in history</td>\n",
              "      <td>0.834168</td>\n",
              "      <td>&lt;WikipediaPage 'Steven Spielberg'&gt;</td>\n",
              "      <td>Legacy A notable figure of the New Hollywood ...</td>\n",
              "    </tr>\n",
              "    <tr>\n",
              "      <th>1</th>\n",
              "      <td>an American film director producer and screenw...</td>\n",
              "      <td>0.616803</td>\n",
              "      <td>&lt;WikipediaPage 'Steven Spielberg'&gt;</td>\n",
              "      <td>Steven Allan Spielberg born December 18 1946 i...</td>\n",
              "    </tr>\n",
              "    <tr>\n",
              "      <th>2</th>\n",
              "      <td>The director</td>\n",
              "      <td>0.481511</td>\n",
              "      <td>&lt;WikipediaPage 'Steven Spielberg'&gt;</td>\n",
              "      <td>Method and themes Spielberg often uses storyb...</td>\n",
              "    </tr>\n",
              "  </tbody>\n",
              "</table>\n",
              "</div>"
            ],
            "text/plain": [
              "                                          Prediction  ...                                            Context\n",
              "0                  the greatest filmmaker in history  ...   Legacy A notable figure of the New Hollywood ...\n",
              "1  an American film director producer and screenw...  ...  Steven Allan Spielberg born December 18 1946 i...\n",
              "2                                       The director  ...   Method and themes Spielberg often uses storyb...\n",
              "\n",
              "[3 rows x 4 columns]"
            ]
          },
          "metadata": {},
          "execution_count": 279
        }
      ]
    },
    {
      "cell_type": "code",
      "metadata": {
        "id": "pV19wkXDdxpr"
      },
      "source": [
        "#save to csv\n",
        "Roberta_Final_predictions.to_csv('Roberta_Final_predictions.csv')"
      ],
      "execution_count": 280,
      "outputs": []
    },
    {
      "cell_type": "code",
      "metadata": {
        "colab": {
          "base_uri": "https://localhost:8080/"
        },
        "id": "PbY03L50kO5h",
        "outputId": "26fe4be7-bc34-4e2c-9244-15407fcd9730"
      },
      "source": [
        "end_time = time.time()\n",
        "print(\"---program execution time %s seconds ---\" % (time.time() - start_time))"
      ],
      "execution_count": 281,
      "outputs": [
        {
          "output_type": "stream",
          "name": "stdout",
          "text": [
            "---program execution time 77.74932169914246 seconds ---\n"
          ]
        }
      ]
    },
    {
      "cell_type": "markdown",
      "metadata": {
        "id": "MdTQYXMbohYa"
      },
      "source": [
        "###### **BERT-BASE-CASED**"
      ]
    },
    {
      "cell_type": "code",
      "metadata": {
        "id": "dQzB5q1XVUea",
        "colab": {
          "base_uri": "https://localhost:8080/"
        },
        "outputId": "7074c24f-43be-4745-b0d4-00af49b07983"
      },
      "source": [
        "#Model 2\n",
        "bert_findings=[]\n",
        "\n",
        "qa_pipeline = pipeline(\"question-answering\",model=\"deepset/bert-base-cased-squad2\",tokenizer=\"deepset/bert-base-cased-squad2\")\n",
        "\n",
        "#looping through all context\n",
        "for x,context in enumerate(top_10['Context']):\n",
        "  prediction = qa_pipeline({'context': context,'question': question})\n",
        "  bert_findings.append([prediction['answer'],prediction['score'],top_10.iloc[x,2],context])"
      ],
      "execution_count": 282,
      "outputs": [
        {
          "output_type": "stream",
          "name": "stderr",
          "text": [
            "/usr/local/lib/python3.7/dist-packages/numpy/core/_asarray.py:83: VisibleDeprecationWarning: Creating an ndarray from ragged nested sequences (which is a list-or-tuple of lists-or-tuples-or ndarrays with different lengths or shapes) is deprecated. If you meant to do this, you must specify 'dtype=object' when creating the ndarray\n",
            "  return array(a, dtype, copy=False, order=order)\n"
          ]
        }
      ]
    },
    {
      "cell_type": "code",
      "metadata": {
        "id": "RdejHSQRmB0u"
      },
      "source": [
        "##extract only the top 3 results from the model\n",
        "from operator import itemgetter\n",
        "bert_final_results = sorted(bert_findings, key=itemgetter(1), reverse=True)[:3]"
      ],
      "execution_count": 283,
      "outputs": []
    },
    {
      "cell_type": "code",
      "metadata": {
        "colab": {
          "base_uri": "https://localhost:8080/",
          "height": 138
        },
        "id": "a5IARM6hmJ4S",
        "outputId": "3266fcdb-2500-4f87-db95-91612f9c937c"
      },
      "source": [
        "Bert_Final_predictions= pd.DataFrame(bert_final_results,columns=['Prediction','Score','Wiki_Page','Context'])\n",
        "Bert_Final_predictions"
      ],
      "execution_count": 284,
      "outputs": [
        {
          "output_type": "execute_result",
          "data": {
            "text/html": [
              "<div>\n",
              "<style scoped>\n",
              "    .dataframe tbody tr th:only-of-type {\n",
              "        vertical-align: middle;\n",
              "    }\n",
              "\n",
              "    .dataframe tbody tr th {\n",
              "        vertical-align: top;\n",
              "    }\n",
              "\n",
              "    .dataframe thead th {\n",
              "        text-align: right;\n",
              "    }\n",
              "</style>\n",
              "<table border=\"1\" class=\"dataframe\">\n",
              "  <thead>\n",
              "    <tr style=\"text-align: right;\">\n",
              "      <th></th>\n",
              "      <th>Prediction</th>\n",
              "      <th>Score</th>\n",
              "      <th>Wiki_Page</th>\n",
              "      <th>Context</th>\n",
              "    </tr>\n",
              "  </thead>\n",
              "  <tbody>\n",
              "    <tr>\n",
              "      <th>0</th>\n",
              "      <td>former President Bill Clinton</td>\n",
              "      <td>0.537619</td>\n",
              "      <td>&lt;WikipediaPage 'Steven Spielberg'&gt;</td>\n",
              "      <td>Political views Spielberg has usually support...</td>\n",
              "    </tr>\n",
              "    <tr>\n",
              "      <th>1</th>\n",
              "      <td>former U S President Bill Clinton</td>\n",
              "      <td>0.497652</td>\n",
              "      <td>&lt;WikipediaPage 'Steven Spielberg'&gt;</td>\n",
              "      <td>Spielberg has won three Academy Awards He rec...</td>\n",
              "    </tr>\n",
              "    <tr>\n",
              "      <th>2</th>\n",
              "      <td>his father a science fiction fan</td>\n",
              "      <td>0.488865</td>\n",
              "      <td>&lt;WikipediaPage 'Steven Spielberg'&gt;</td>\n",
              "      <td>Method and themes Spielberg often uses storyb...</td>\n",
              "    </tr>\n",
              "  </tbody>\n",
              "</table>\n",
              "</div>"
            ],
            "text/plain": [
              "                          Prediction  ...                                            Context\n",
              "0      former President Bill Clinton  ...   Political views Spielberg has usually support...\n",
              "1  former U S President Bill Clinton  ...   Spielberg has won three Academy Awards He rec...\n",
              "2   his father a science fiction fan  ...   Method and themes Spielberg often uses storyb...\n",
              "\n",
              "[3 rows x 4 columns]"
            ]
          },
          "metadata": {},
          "execution_count": 284
        }
      ]
    },
    {
      "cell_type": "code",
      "metadata": {
        "id": "3yVXhMsfd52H"
      },
      "source": [
        "#save to csv\n",
        "Bert_Final_predictions.to_csv('Bert_Final_predictions.csv')"
      ],
      "execution_count": 285,
      "outputs": []
    },
    {
      "cell_type": "markdown",
      "metadata": {
        "id": "WhxQCdNJNN_c"
      },
      "source": [
        "###### **NOTE:** *FOR MOST CASES TOP RESULT WERE FINE, FOR SOME CASES ANSWERS WERE FOUND IN OTHER RESULT(2nd or 3rd).*"
      ]
    },
    {
      "cell_type": "markdown",
      "metadata": {
        "id": "7ody9uB1eyfa"
      },
      "source": [
        "### **Passing the whole contents of a Wikipedia page as context to Roberta Model and testing the accuracy of predictions**"
      ]
    },
    {
      "cell_type": "code",
      "metadata": {
        "colab": {
          "base_uri": "https://localhost:8080/"
        },
        "id": "NHAhD1_IgF9r",
        "outputId": "cb036046-8baa-42cd-81bb-fd73b44f915c"
      },
      "source": [
        "#type the question to search\n",
        "question = input(\"enter the text to search!!!\")\n",
        "doc1=nlp(question)\n",
        "search_text=''\n",
        "for token in doc1:\n",
        "  if token.pos_ in ('PROPN', 'NUM', 'VERB', 'NOUN', 'ADJ'):\n",
        "    search_text +=' '+ token.text\n",
        "\n",
        "search_text=search_text.strip()"
      ],
      "execution_count": 286,
      "outputs": [
        {
          "name": "stdout",
          "output_type": "stream",
          "text": [
            "enter the text to search!!!who is steven spielberg?\n"
          ]
        }
      ]
    },
    {
      "cell_type": "code",
      "metadata": {
        "id": "0sQ5eTTmkUIr"
      },
      "source": [
        "import time\n",
        "start_time = time.time()\n",
        "#check process running time"
      ],
      "execution_count": 287,
      "outputs": []
    },
    {
      "cell_type": "code",
      "metadata": {
        "colab": {
          "base_uri": "https://localhost:8080/",
          "height": 35
        },
        "id": "o02fbPUNgF9s",
        "outputId": "0ba29b80-abaa-4758-e041-8fc1abc6a984"
      },
      "source": [
        "doc1.text"
      ],
      "execution_count": 288,
      "outputs": [
        {
          "output_type": "execute_result",
          "data": {
            "application/vnd.google.colaboratory.intrinsic+json": {
              "type": "string"
            },
            "text/plain": [
              "'who is steven spielberg?'"
            ]
          },
          "metadata": {},
          "execution_count": 288
        }
      ]
    },
    {
      "cell_type": "code",
      "metadata": {
        "colab": {
          "base_uri": "https://localhost:8080/"
        },
        "id": "4erj6br5gF9s",
        "outputId": "9f10be7f-a448-455d-ba52-6fa38f0879f4"
      },
      "source": [
        "for token in doc1:\n",
        "  print(token,token.pos_)"
      ],
      "execution_count": 289,
      "outputs": [
        {
          "output_type": "stream",
          "name": "stdout",
          "text": [
            "who PRON\n",
            "is AUX\n",
            "steven PROPN\n",
            "spielberg PROPN\n",
            "? PUNCT\n"
          ]
        }
      ]
    },
    {
      "cell_type": "code",
      "metadata": {
        "colab": {
          "base_uri": "https://localhost:8080/",
          "height": 35
        },
        "id": "MhC05sbCgF9s",
        "outputId": "f86d6193-8fcf-49eb-9cab-2b5e81748501"
      },
      "source": [
        "search_text"
      ],
      "execution_count": 290,
      "outputs": [
        {
          "output_type": "execute_result",
          "data": {
            "application/vnd.google.colaboratory.intrinsic+json": {
              "type": "string"
            },
            "text/plain": [
              "'steven spielberg'"
            ]
          },
          "metadata": {},
          "execution_count": 290
        }
      ]
    },
    {
      "cell_type": "code",
      "metadata": {
        "id": "hwyMegPwf9jA"
      },
      "source": [
        "#search and retrieve wiki pages using pytohn wikipedia API module\n",
        "#pass the neceesary pages to retrieve (example:1 or 2 or 3)\n",
        "search_results = wikipedia.search(search_text,results = 1)\n",
        "\n",
        "search_results_pages=[]\n",
        "\n",
        "# add pages to list\n",
        "for docs in search_results:\n",
        "  search_results_pages.append(wikipedia.page(docs, auto_suggest=False))"
      ],
      "execution_count": 291,
      "outputs": []
    },
    {
      "cell_type": "code",
      "metadata": {
        "colab": {
          "base_uri": "https://localhost:8080/"
        },
        "id": "3K1We9dxfk2W",
        "outputId": "66492600-f4d3-4b18-c9b9-08e7b3c70dc9"
      },
      "source": [
        "#wiki page\n",
        "search_results_pages[0]"
      ],
      "execution_count": 292,
      "outputs": [
        {
          "output_type": "execute_result",
          "data": {
            "text/plain": [
              "<WikipediaPage 'Steven Spielberg'>"
            ]
          },
          "metadata": {},
          "execution_count": 292
        }
      ]
    },
    {
      "cell_type": "code",
      "metadata": {
        "colab": {
          "base_uri": "https://localhost:8080/"
        },
        "id": "mVyg0zwuexeK",
        "outputId": "56449e6f-5c05-438e-cec4-738142ee3a1a"
      },
      "source": [
        "#passing entire page to Roberta Model and check out predictions\n",
        "prediction = qa_pipeline({'context': search_results_pages[0].content,'question': question})\n",
        "prediction"
      ],
      "execution_count": 293,
      "outputs": [
        {
          "output_type": "stream",
          "name": "stderr",
          "text": [
            "/usr/local/lib/python3.7/dist-packages/numpy/core/_asarray.py:83: VisibleDeprecationWarning: Creating an ndarray from ragged nested sequences (which is a list-or-tuple of lists-or-tuples-or ndarrays with different lengths or shapes) is deprecated. If you meant to do this, you must specify 'dtype=object' when creating the ndarray\n",
            "  return array(a, dtype, copy=False, order=order)\n"
          ]
        },
        {
          "output_type": "execute_result",
          "data": {
            "text/plain": [
              "{'answer': 'Oskar Schindler',\n",
              " 'end': 22286,\n",
              " 'score': 0.5922462940216064,\n",
              " 'start': 22271}"
            ]
          },
          "metadata": {},
          "execution_count": 293
        }
      ]
    },
    {
      "cell_type": "code",
      "metadata": {
        "colab": {
          "base_uri": "https://localhost:8080/"
        },
        "id": "j1X9IGNqjtuh",
        "outputId": "3101a51b-3c99-4d66-ef45-4e1267af815e"
      },
      "source": [
        "end_time = time.time()\n",
        "print(\"---program execution time %s seconds ---\" % (time.time() - start_time))"
      ],
      "execution_count": 294,
      "outputs": [
        {
          "output_type": "stream",
          "name": "stdout",
          "text": [
            "---program execution time 87.84971785545349 seconds ---\n"
          ]
        }
      ]
    },
    {
      "cell_type": "markdown",
      "metadata": {
        "id": "pX05OPG5fraE"
      },
      "source": [
        "**The Results were appropiate for few cases and were totally irrelevant for many other.**\n",
        "\n",
        "*Also, this process was slower(87 seconds) compared to detailed steps done along with IO operations to disk(77 seconds).*"
      ]
    }
  ]
}